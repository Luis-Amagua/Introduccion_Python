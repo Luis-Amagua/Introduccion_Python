{
  "nbformat": 4,
  "nbformat_minor": 0,
  "metadata": {
    "colab": {
      "provenance": [],
      "authorship_tag": "ABX9TyMjfQqmC9S47tfrbc4UbbLW",
      "include_colab_link": true
    },
    "kernelspec": {
      "name": "python3",
      "display_name": "Python 3"
    },
    "language_info": {
      "name": "python"
    }
  },
  "cells": [
    {
      "cell_type": "markdown",
      "metadata": {
        "id": "view-in-github",
        "colab_type": "text"
      },
      "source": [
        "<a href=\"https://colab.research.google.com/github/Luis-Amagua/Introduccion_Python/blob/main/3_Bucles.ipynb\" target=\"_parent\"><img src=\"https://colab.research.google.com/assets/colab-badge.svg\" alt=\"Open In Colab\"/></a>"
      ]
    },
    {
      "cell_type": "markdown",
      "source": [
        "# Sentencia IF"
      ],
      "metadata": {
        "id": "itSTLfXQOkmk"
      }
    },
    {
      "cell_type": "code",
      "execution_count": 5,
      "metadata": {
        "colab": {
          "base_uri": "https://localhost:8080/"
        },
        "id": "eKkQaOS3N0d0",
        "outputId": "4887fb12-536d-4819-9ec0-b1b24de35bdb"
      },
      "outputs": [
        {
          "output_type": "stream",
          "name": "stdout",
          "text": [
            "Escribir un número entero: 13\n",
            "numero impar\n"
          ]
        }
      ],
      "source": [
        "# escribir un programa que indique si un numero es par\n",
        "\n",
        "num=int(input(\"Escribir un número entero: \"))\n",
        "\n",
        "if num%2==0:            #el residuo de dividir num para 2 debe ser 0, entonces es PAR\n",
        "  print(\"numero par\")\n",
        "else:\n",
        "  print(\"numero impar\")"
      ]
    },
    {
      "cell_type": "markdown",
      "source": [
        "# Sentencia ELIF\n",
        "If...elif...else"
      ],
      "metadata": {
        "id": "rBdgRHeNQH7T"
      }
    },
    {
      "cell_type": "code",
      "source": [
        "pokemon_rival=\"Mewt\"\n",
        "\n",
        "if pokemon_rival==\"charmander\":\n",
        "  nuestro_pokemon=\"squirtle\"\n",
        "elif pokemon_rival==\"squirtle\":\n",
        "  nuestro_pokemon=\"bulbasor\"\n",
        "elif pokemon_rival ==\"bulbasor\":\n",
        "  nuestro_pokemon=\"charmander\"\n",
        "else:\n",
        "  nuestro_pokemon=\"pikachu\"\n",
        "\n",
        "print(f\"{nuestro_pokemon} yo te elijo!\")"
      ],
      "metadata": {
        "colab": {
          "base_uri": "https://localhost:8080/"
        },
        "id": "Ah1_EDQEO3yd",
        "outputId": "613d3ff5-58f8-4511-9f73-42fb79f79d74"
      },
      "execution_count": 18,
      "outputs": [
        {
          "output_type": "stream",
          "name": "stdout",
          "text": [
            "pikachu yo te elijo!\n"
          ]
        }
      ]
    },
    {
      "cell_type": "code",
      "source": [
        "# escribir un programa que indique la generacion correspondiente para un año de nacimiento indicado\n",
        "\n",
        "año=int(input(\"Ingrese el año de nacimiento: \"))\n",
        "\n",
        "\n",
        "if año>=1920 and año<=1940:\n",
        "  print(\"Es de la generacion silenciosa\")\n",
        "elif año>=1946 and año<=1964:\n",
        "  print(\"Es de la generacion Boomer\")\n",
        "elif año>=1965 and año<=1979:\n",
        "  print(\"Es de la generacion X\")\n",
        "elif año>=1980 and año<=2000:\n",
        "  print(\"Es de la generacion Y\")\n",
        "elif año>=2001 and año<=2010:\n",
        "  print(\"Es de la generacion Z\")\n",
        "else:\n",
        "  print(\"No tiene asignado una generacion\")"
      ],
      "metadata": {
        "colab": {
          "base_uri": "https://localhost:8080/"
        },
        "id": "UokLv6WQRiCW",
        "outputId": "d17e5c74-2ef2-4665-a802-175680a50aca"
      },
      "execution_count": 53,
      "outputs": [
        {
          "output_type": "stream",
          "name": "stdout",
          "text": [
            "Ingrese el año de nacimiento: 2005\n",
            "Es de la generacion Z\n"
          ]
        }
      ]
    },
    {
      "cell_type": "markdown",
      "source": [
        "# If anidados\n",
        "\n",
        "**Determinar si se va a entregar un credito a un cliente de un banco**\n",
        "\n",
        "El cliente debe ser mayor de edad\n",
        "debe tener una antiguedad de alenos 3 años\n",
        "ingreso mayor a $2500\n",
        "\n",
        "sino tiene la antiguedad suficiente, su ingreso mensual debe ser almenos 4000\n",
        "\n",
        "sino cumple ninguna de las condiciones no se aprueba el credito"
      ],
      "metadata": {
        "id": "aVG9c19ccwGW"
      }
    },
    {
      "cell_type": "code",
      "source": [
        "edad=22\n",
        "antiguedad=1 #años\n",
        "ingresos=4000\n",
        "\n",
        "if edad >=18:\n",
        "  if(antiguedad>=3 and ingresos>=2500):\n",
        "    prestamo=\"Prestamo Aprobado\"\n",
        "  elif(ingresos>=4000):\n",
        "    prestamo=\"Prestamo Aprobado\"\n",
        "  else:\n",
        "    prestamo=\"Prestamo NO Aprobado\"\n",
        "prestamo\n",
        "\n",
        "\n"
      ],
      "metadata": {
        "colab": {
          "base_uri": "https://localhost:8080/",
          "height": 35
        },
        "id": "A6zaJvO7TDlm",
        "outputId": "74dcb882-db57-4ac0-d224-276907180438"
      },
      "execution_count": 62,
      "outputs": [
        {
          "output_type": "execute_result",
          "data": {
            "text/plain": [
              "'Prestamo Aprobado'"
            ],
            "application/vnd.google.colaboratory.intrinsic+json": {
              "type": "string"
            }
          },
          "metadata": {},
          "execution_count": 62
        }
      ]
    },
    {
      "cell_type": "code",
      "source": [
        "diccionario = {'nombre': 'Antonio', 'cargo': 'Data Engineer'} \n",
        "if 'nombre' in diccionario.keys(): \n",
        "  print(diccionario['nombre'])\n"
      ],
      "metadata": {
        "colab": {
          "base_uri": "https://localhost:8080/"
        },
        "id": "q-sAibJ-gGRe",
        "outputId": "427db553-4189-4905-ebd6-7c6266e37604"
      },
      "execution_count": 65,
      "outputs": [
        {
          "output_type": "stream",
          "name": "stdout",
          "text": [
            "Antonio\n"
          ]
        }
      ]
    },
    {
      "cell_type": "code",
      "source": [
        "diccionario = {'lista': [10, 20 ,30, 40, 50], 'valor' : [20, 10, 30]}"
      ],
      "metadata": {
        "id": "5Uktg8JfjwMS"
      },
      "execution_count": 66,
      "outputs": []
    },
    {
      "cell_type": "code",
      "source": [
        "diccionario['valor'][1]"
      ],
      "metadata": {
        "colab": {
          "base_uri": "https://localhost:8080/"
        },
        "id": "V__JzEDnlUcT",
        "outputId": "879841a1-d009-4b1a-b205-af6674555224"
      },
      "execution_count": 69,
      "outputs": [
        {
          "output_type": "execute_result",
          "data": {
            "text/plain": [
              "10"
            ]
          },
          "metadata": {},
          "execution_count": 69
        }
      ]
    },
    {
      "cell_type": "code",
      "source": [],
      "metadata": {
        "id": "P8rF1tYdlXJj"
      },
      "execution_count": null,
      "outputs": []
    }
  ]
}
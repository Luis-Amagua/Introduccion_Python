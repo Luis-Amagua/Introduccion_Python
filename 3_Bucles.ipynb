{
  "nbformat": 4,
  "nbformat_minor": 0,
  "metadata": {
    "colab": {
      "provenance": [],
      "authorship_tag": "ABX9TyP+B6pJzm46F3/B7crP6CY4",
      "include_colab_link": true
    },
    "kernelspec": {
      "name": "python3",
      "display_name": "Python 3"
    },
    "language_info": {
      "name": "python"
    }
  },
  "cells": [
    {
      "cell_type": "markdown",
      "metadata": {
        "id": "view-in-github",
        "colab_type": "text"
      },
      "source": [
        "<a href=\"https://colab.research.google.com/github/Luis-Amagua/Introduccion_Python/blob/main/3_Bucles.ipynb\" target=\"_parent\"><img src=\"https://colab.research.google.com/assets/colab-badge.svg\" alt=\"Open In Colab\"/></a>"
      ]
    },
    {
      "cell_type": "markdown",
      "source": [
        "# Sentencia IF"
      ],
      "metadata": {
        "id": "itSTLfXQOkmk"
      }
    },
    {
      "cell_type": "code",
      "execution_count": null,
      "metadata": {
        "colab": {
          "base_uri": "https://localhost:8080/"
        },
        "id": "eKkQaOS3N0d0",
        "outputId": "4887fb12-536d-4819-9ec0-b1b24de35bdb"
      },
      "outputs": [
        {
          "output_type": "stream",
          "name": "stdout",
          "text": [
            "Escribir un número entero: 13\n",
            "numero impar\n"
          ]
        }
      ],
      "source": [
        "# escribir un programa que indique si un numero es par\n",
        "\n",
        "num=int(input(\"Escribir un número entero: \"))\n",
        "\n",
        "if num%2==0:            #el residuo de dividir num para 2 debe ser 0, entonces es PAR\n",
        "  print(\"numero par\")\n",
        "else:\n",
        "  print(\"numero impar\")"
      ]
    },
    {
      "cell_type": "markdown",
      "source": [
        "# Sentencia ELIF\n",
        "If...elif...else"
      ],
      "metadata": {
        "id": "rBdgRHeNQH7T"
      }
    },
    {
      "cell_type": "code",
      "source": [
        "pokemon_rival=\"Mewt\"\n",
        "\n",
        "if pokemon_rival==\"charmander\":\n",
        "  nuestro_pokemon=\"squirtle\"\n",
        "elif pokemon_rival==\"squirtle\":\n",
        "  nuestro_pokemon=\"bulbasor\"\n",
        "elif pokemon_rival ==\"bulbasor\":\n",
        "  nuestro_pokemon=\"charmander\"\n",
        "else:\n",
        "  nuestro_pokemon=\"pikachu\"\n",
        "\n",
        "print(f\"{nuestro_pokemon} yo te elijo!\")"
      ],
      "metadata": {
        "colab": {
          "base_uri": "https://localhost:8080/"
        },
        "id": "Ah1_EDQEO3yd",
        "outputId": "613d3ff5-58f8-4511-9f73-42fb79f79d74"
      },
      "execution_count": null,
      "outputs": [
        {
          "output_type": "stream",
          "name": "stdout",
          "text": [
            "pikachu yo te elijo!\n"
          ]
        }
      ]
    },
    {
      "cell_type": "code",
      "source": [
        "# escribir un programa que indique la generacion correspondiente para un año de nacimiento indicado\n",
        "\n",
        "año=int(input(\"Ingrese el año de nacimiento: \"))\n",
        "\n",
        "\n",
        "if año>=1920 and año<=1940:\n",
        "  print(\"Es de la generacion silenciosa\")\n",
        "elif año>=1946 and año<=1964:\n",
        "  print(\"Es de la generacion Boomer\")\n",
        "elif año>=1965 and año<=1979:\n",
        "  print(\"Es de la generacion X\")\n",
        "elif año>=1980 and año<=2000:\n",
        "  print(\"Es de la generacion Y\")\n",
        "elif año>=2001 and año<=2010:\n",
        "  print(\"Es de la generacion Z\")\n",
        "else:\n",
        "  print(\"No tiene asignado una generacion\")"
      ],
      "metadata": {
        "colab": {
          "base_uri": "https://localhost:8080/"
        },
        "id": "UokLv6WQRiCW",
        "outputId": "d17e5c74-2ef2-4665-a802-175680a50aca"
      },
      "execution_count": null,
      "outputs": [
        {
          "output_type": "stream",
          "name": "stdout",
          "text": [
            "Ingrese el año de nacimiento: 2005\n",
            "Es de la generacion Z\n"
          ]
        }
      ]
    },
    {
      "cell_type": "markdown",
      "source": [
        "# If anidados\n",
        "\n",
        "**Determinar si se va a entregar un credito a un cliente de un banco**\n",
        "\n",
        "El cliente debe ser mayor de edad\n",
        "debe tener una antiguedad de alenos 3 años\n",
        "ingreso mayor a $2500\n",
        "\n",
        "sino tiene la antiguedad suficiente, su ingreso mensual debe ser almenos 4000\n",
        "\n",
        "sino cumple ninguna de las condiciones no se aprueba el credito"
      ],
      "metadata": {
        "id": "aVG9c19ccwGW"
      }
    },
    {
      "cell_type": "code",
      "source": [
        "edad=22\n",
        "antiguedad=1 #años\n",
        "ingresos=4000\n",
        "\n",
        "if edad >=18:\n",
        "  if(antiguedad>=3 and ingresos>=2500):\n",
        "    prestamo=\"Prestamo Aprobado\"\n",
        "  elif(ingresos>=4000):\n",
        "    prestamo=\"Prestamo Aprobado\"\n",
        "  else:\n",
        "    prestamo=\"Prestamo NO Aprobado\"\n",
        "prestamo\n",
        "\n",
        "\n"
      ],
      "metadata": {
        "colab": {
          "base_uri": "https://localhost:8080/",
          "height": 35
        },
        "id": "A6zaJvO7TDlm",
        "outputId": "74dcb882-db57-4ac0-d224-276907180438"
      },
      "execution_count": null,
      "outputs": [
        {
          "output_type": "execute_result",
          "data": {
            "text/plain": [
              "'Prestamo Aprobado'"
            ],
            "application/vnd.google.colaboratory.intrinsic+json": {
              "type": "string"
            }
          },
          "metadata": {},
          "execution_count": 62
        }
      ]
    },
    {
      "cell_type": "code",
      "source": [
        "diccionario = {'nombre': 'Antonio', 'cargo': 'Data Engineer'} \n",
        "if 'nombre' in diccionario.keys(): \n",
        "  print(diccionario['nombre'])\n"
      ],
      "metadata": {
        "colab": {
          "base_uri": "https://localhost:8080/"
        },
        "id": "q-sAibJ-gGRe",
        "outputId": "427db553-4189-4905-ebd6-7c6266e37604"
      },
      "execution_count": null,
      "outputs": [
        {
          "output_type": "stream",
          "name": "stdout",
          "text": [
            "Antonio\n"
          ]
        }
      ]
    },
    {
      "cell_type": "code",
      "source": [
        "diccionario = {'lista': [10, 20 ,30, 40, 50], 'valor' : [20, 10, 30]}"
      ],
      "metadata": {
        "id": "5Uktg8JfjwMS"
      },
      "execution_count": null,
      "outputs": []
    },
    {
      "cell_type": "code",
      "source": [
        "diccionario['valor'][1]"
      ],
      "metadata": {
        "colab": {
          "base_uri": "https://localhost:8080/"
        },
        "id": "V__JzEDnlUcT",
        "outputId": "879841a1-d009-4b1a-b205-af6674555224"
      },
      "execution_count": null,
      "outputs": [
        {
          "output_type": "execute_result",
          "data": {
            "text/plain": [
              "10"
            ]
          },
          "metadata": {},
          "execution_count": 69
        }
      ]
    },
    {
      "cell_type": "markdown",
      "source": [
        "# Bucles\n",
        "## While"
      ],
      "metadata": {
        "id": "ev4Lq4YavDqM"
      }
    },
    {
      "cell_type": "code",
      "source": [
        "# imprime los números enteros menores a 10\n",
        "\n",
        "n=1            # valor inicial\n",
        "while n < 10:\n",
        "  print(n) \n",
        "  n=n+1"
      ],
      "metadata": {
        "id": "P8rF1tYdlXJj",
        "colab": {
          "base_uri": "https://localhost:8080/"
        },
        "outputId": "aee26f79-c5a1-476e-f337-7f6f78f1414a"
      },
      "execution_count": 3,
      "outputs": [
        {
          "output_type": "stream",
          "name": "stdout",
          "text": [
            "1\n",
            "2\n",
            "3\n",
            "4\n",
            "5\n",
            "6\n",
            "7\n",
            "8\n",
            "9\n"
          ]
        }
      ]
    },
    {
      "cell_type": "code",
      "source": [
        "n  # es el úlimo número, no se imprime porque no cumple la condición"
      ],
      "metadata": {
        "colab": {
          "base_uri": "https://localhost:8080/"
        },
        "id": "RRdFgfMlvsPk",
        "outputId": "914aab1a-3845-42fb-935b-d6754add9831"
      },
      "execution_count": 5,
      "outputs": [
        {
          "output_type": "execute_result",
          "data": {
            "text/plain": [
              "10"
            ]
          },
          "metadata": {},
          "execution_count": 5
        }
      ]
    },
    {
      "cell_type": "code",
      "source": [
        "# Calcula la suma deuna cantidad d enumeros enteros ingresados por el usuario\n",
        "\n",
        "suma=0     #valor inicial\n",
        "continuar= True #flags de salida\n",
        "\n",
        "while continuar:\n",
        "  numero=input(\"Ingrese un numero ('exit' para terminar):\")\n",
        "  if numero=='exit':\n",
        "    continuar=False\n",
        "  else:\n",
        "    numero=int(numero)\n",
        "    suma=suma+numero\n",
        "print(f\"La suma es {suma}\")"
      ],
      "metadata": {
        "colab": {
          "base_uri": "https://localhost:8080/"
        },
        "id": "R0ZCnLGwwU1A",
        "outputId": "7b98b6ab-7beb-4398-a08f-b113eb327996"
      },
      "execution_count": 10,
      "outputs": [
        {
          "output_type": "stream",
          "name": "stdout",
          "text": [
            "Ingrese un numero ('exit' para terminar):4\n",
            "Ingrese un numero ('exit' para terminar):exit\n",
            "La suma es 4\n"
          ]
        }
      ]
    },
    {
      "cell_type": "markdown",
      "source": [
        "# While break"
      ],
      "metadata": {
        "id": "6gJret8KzbJ7"
      }
    },
    {
      "cell_type": "code",
      "source": [
        "# break sirve para salir a traves de una condicion interna\n",
        "\n",
        "numero=1\n",
        "\n",
        "while numero < 10:\n",
        "  if numero==5:\n",
        "    break           # si numero es =5 sale del lazo y termina\n",
        "  print(numero)\n",
        "  numero=numero+1"
      ],
      "metadata": {
        "colab": {
          "base_uri": "https://localhost:8080/"
        },
        "id": "xD_3pHhyy4Z0",
        "outputId": "66d4af0a-fa4c-4d7f-ab4f-edb026d364df"
      },
      "execution_count": 12,
      "outputs": [
        {
          "output_type": "stream",
          "name": "stdout",
          "text": [
            "1\n",
            "2\n",
            "3\n",
            "4\n"
          ]
        }
      ]
    },
    {
      "cell_type": "markdown",
      "source": [
        "# While continue"
      ],
      "metadata": {
        "id": "Gt6TdLHn0D_m"
      }
    },
    {
      "cell_type": "code",
      "source": [
        "numero=0\n",
        "\n",
        "while numero <10:\n",
        "  numero =numero+1\n",
        "  if numero %2==0:\n",
        "    print(\"continue\")     \n",
        "    continue            # continue no muetsra el valor, a menos que imprimas(aqui no toma los pares)\n",
        "  print(numero)"
      ],
      "metadata": {
        "colab": {
          "base_uri": "https://localhost:8080/"
        },
        "id": "93sO2ccHzzCn",
        "outputId": "25f92760-eb9e-47b2-e548-a8324e4da869"
      },
      "execution_count": 13,
      "outputs": [
        {
          "output_type": "stream",
          "name": "stdout",
          "text": [
            "1\n",
            "continue\n",
            "3\n",
            "continue\n",
            "5\n",
            "continue\n",
            "7\n",
            "continue\n",
            "9\n",
            "continue\n"
          ]
        }
      ]
    },
    {
      "cell_type": "code",
      "source": [
        "numero=0\n",
        "\n",
        "while numero <10:\n",
        "  numero =numero+1\n",
        "  if numero %2==0:    \n",
        "    continue            # continue no muetsra el valor, a menos que imprimas(aqui no toma los pares)\n",
        "  print(numero)"
      ],
      "metadata": {
        "colab": {
          "base_uri": "https://localhost:8080/"
        },
        "id": "kEKp7I9p0QNx",
        "outputId": "61cc3d8b-f0ce-4733-bce9-a8d5c5f0d1fc"
      },
      "execution_count": 14,
      "outputs": [
        {
          "output_type": "stream",
          "name": "stdout",
          "text": [
            "1\n",
            "3\n",
            "5\n",
            "7\n",
            "9\n"
          ]
        }
      ]
    },
    {
      "cell_type": "markdown",
      "source": [
        "# Black Jack\n",
        "El jugador obtiene una carta y va sumandolas hasta obtener el numero 21 o el mas cercano posible"
      ],
      "metadata": {
        "id": "ky6Y-6jB0xQ_"
      }
    },
    {
      "cell_type": "code",
      "source": [
        "import random\n",
        "random.randint(00,14)  #numeros aleatorios enteros"
      ],
      "metadata": {
        "colab": {
          "base_uri": "https://localhost:8080/"
        },
        "id": "m8_5sbS10aS7",
        "outputId": "f186cd20-458e-4b93-84cb-fbd39b21a031"
      },
      "execution_count": 18,
      "outputs": [
        {
          "output_type": "execute_result",
          "data": {
            "text/plain": [
              "11"
            ]
          },
          "metadata": {},
          "execution_count": 18
        }
      ]
    },
    {
      "cell_type": "code",
      "source": [
        "suma=0\n",
        "while suma <=21:\n",
        "  nueva_carta=random.randint(1,13)\n",
        "  suma=suma+nueva_carta\n",
        "  print(f\"carta nueva es: {nueva_carta}\")\n",
        "  print(f\"la suma total es: {suma}\")\n",
        "  if(suma==21):\n",
        "    print(f\"sumaste: {suma} ¡black jack!\")\n",
        "    break\n",
        "  elif suma <21:\n",
        "    opcion =input(\"Deseas otra carta? (S/N): \")\n",
        "    if opcion=='N':\n",
        "      print(f\"la suma final es {nueva_carta}\")\n",
        "      break\n",
        "  elif suma >21:\n",
        "    print(\"Perdiste :c\")\n",
        "    break"
      ],
      "metadata": {
        "colab": {
          "base_uri": "https://localhost:8080/"
        },
        "id": "nBWlTK8-0-WK",
        "outputId": "5a1fe1f2-8d5d-483c-bbe9-39191511dd51"
      },
      "execution_count": 30,
      "outputs": [
        {
          "output_type": "stream",
          "name": "stdout",
          "text": [
            "carta nueva es: 1\n",
            "la suma total es: 1\n",
            "Deseas otra carta? (S/N): S\n",
            "carta nueva es: 1\n",
            "la suma total es: 2\n",
            "Deseas otra carta? (S/N): S\n",
            "carta nueva es: 6\n",
            "la suma total es: 8\n",
            "Deseas otra carta? (S/N): S\n",
            "carta nueva es: 8\n",
            "la suma total es: 16\n",
            "Deseas otra carta? (S/N): S\n",
            "carta nueva es: 11\n",
            "la suma total es: 27\n",
            "Perdiste :c\n"
          ]
        }
      ]
    },
    {
      "cell_type": "markdown",
      "source": [
        "#Bucle for"
      ],
      "metadata": {
        "id": "ZTDKh7uF4umh"
      }
    },
    {
      "cell_type": "code",
      "source": [
        "gustos_manuchao=[\"los aviones\",\"viajar\",\"la mañana\",\"el viento\",\"soñar\",\"la mar\"]"
      ],
      "metadata": {
        "id": "PRiCcKww16YG"
      },
      "execution_count": 31,
      "outputs": []
    },
    {
      "cell_type": "code",
      "source": [
        "for gusto in gustos_manuchao:\n",
        "  print(f\"Me gusta {gusto}, me gustas tú\")"
      ],
      "metadata": {
        "colab": {
          "base_uri": "https://localhost:8080/"
        },
        "id": "N4sG6YiM5D80",
        "outputId": "b8796673-2e2e-48a2-9077-53cd20682a2a"
      },
      "execution_count": 32,
      "outputs": [
        {
          "output_type": "stream",
          "name": "stdout",
          "text": [
            "Me gusta los aviones, me gustas tú\n",
            "Me gusta viajar, me gustas tú\n",
            "Me gusta la mañana, me gustas tú\n",
            "Me gusta el viento, me gustas tú\n",
            "Me gusta soñar, me gustas tú\n",
            "Me gusta la mar, me gustas tú\n"
          ]
        }
      ]
    },
    {
      "cell_type": "markdown",
      "source": [
        "#ZIP\n",
        "Puede recorrer varias listas de forma simultánea"
      ],
      "metadata": {
        "id": "q2VjaheX5kKn"
      }
    },
    {
      "cell_type": "code",
      "source": [
        "nombres=[\"Mark Zuckerberg\",\"Jack Dorsey\",\"Steve Jobs\",\"Bill Gates\"]\n",
        "empresas=[\"Facebook\",\"Twitter\",\"Apple\",\"Microsoft\"]\n",
        "precio_accion=[24.7, 293.6, 499.2, 288.2]\n",
        "\n",
        "for variable in zip(nombres, empresas):\n",
        "  print(variable)"
      ],
      "metadata": {
        "colab": {
          "base_uri": "https://localhost:8080/"
        },
        "id": "ebNv-pmP5NbV",
        "outputId": "785b3983-d509-440a-f908-547fa7fc4d2b"
      },
      "execution_count": 37,
      "outputs": [
        {
          "output_type": "stream",
          "name": "stdout",
          "text": [
            "('Mark Zuckerberg', 'Facebook')\n",
            "('Jack Dorsey', 'Twitter')\n",
            "('Steve Jobs', 'Apple')\n",
            "('Bill Gates', 'Microsoft')\n"
          ]
        }
      ]
    },
    {
      "cell_type": "code",
      "source": [
        "# si tenog una variable no puedo acceder por separado a los elementos, pero\n",
        "# puedo tomar como tuplas y tomar valores separados\n",
        "\n",
        "nombres=[\"Mark Zuckerberg\",\"Jack Dorsey\",\"Steve Jobs\",\"Bill Gates\"]\n",
        "empresas=[\"Facebook\",\"Twitter\",\"Apple\",\"Microsoft\"]\n",
        "precio_accion=[24.7, 293.6, 499.2, 288.2]\n",
        "\n",
        "for nombre, empresa, precio in zip(nombres, empresas, precio_accion):\n",
        "  print(f\"{nombre} fundó la empresa: {empresa}, y las acciones tienen un precio de {precio}\")"
      ],
      "metadata": {
        "colab": {
          "base_uri": "https://localhost:8080/"
        },
        "id": "UPbXe6LE6K80",
        "outputId": "d09b67be-6dde-427f-942d-99ea8130141d"
      },
      "execution_count": 39,
      "outputs": [
        {
          "output_type": "stream",
          "name": "stdout",
          "text": [
            "Mark Zuckerberg fundó la empresa: Facebook, y las acciones tienen un precio de 24.7\n",
            "Jack Dorsey fundó la empresa: Twitter, y las acciones tienen un precio de 293.6\n",
            "Steve Jobs fundó la empresa: Apple, y las acciones tienen un precio de 499.2\n",
            "Bill Gates fundó la empresa: Microsoft, y las acciones tienen un precio de 288.2\n"
          ]
        }
      ]
    },
    {
      "cell_type": "code",
      "source": [
        "range(1,10)\n",
        "print(list(range(1,10))) # genera una lista de 1 al 10\n",
        "print(list(range(1,10,2))) # pasos de 2 en 2"
      ],
      "metadata": {
        "colab": {
          "base_uri": "https://localhost:8080/"
        },
        "id": "A6V5s2MI7Zfp",
        "outputId": "b9ef3700-b99a-4783-9de3-c64367a18cef"
      },
      "execution_count": 6,
      "outputs": [
        {
          "output_type": "stream",
          "name": "stdout",
          "text": [
            "[1, 2, 3, 4, 5, 6, 7, 8, 9]\n",
            "[1, 3, 5, 7, 9]\n"
          ]
        }
      ]
    },
    {
      "cell_type": "code",
      "source": [
        "for numero in range(1,20,2):\n",
        "  print(numero)"
      ],
      "metadata": {
        "colab": {
          "base_uri": "https://localhost:8080/"
        },
        "id": "7g5nutgmOzet",
        "outputId": "482b6c4b-08ab-4bc9-9d8e-7f766e3994b1"
      },
      "execution_count": 8,
      "outputs": [
        {
          "output_type": "stream",
          "name": "stdout",
          "text": [
            "1\n",
            "3\n",
            "5\n",
            "7\n",
            "9\n",
            "11\n",
            "13\n",
            "15\n",
            "17\n",
            "19\n"
          ]
        }
      ]
    },
    {
      "cell_type": "code",
      "source": [
        "# imprimir una lista de los cuadrados de: {3,7,11,15,19,23}\n",
        "\n",
        "cuadrados=[]\n",
        "\n",
        "for num in list(range(3,25,4)):\n",
        "  cuadrados.append(num)\n",
        "cuadrados\n",
        "  "
      ],
      "metadata": {
        "colab": {
          "base_uri": "https://localhost:8080/"
        },
        "id": "emtLLyTfPJnH",
        "outputId": "a348b4ff-671c-41c3-99c7-53121b4e447f"
      },
      "execution_count": 11,
      "outputs": [
        {
          "output_type": "execute_result",
          "data": {
            "text/plain": [
              "[3, 7, 11, 15, 19, 23]"
            ]
          },
          "metadata": {},
          "execution_count": 11
        }
      ]
    },
    {
      "cell_type": "code",
      "source": [
        "cuadrados=[]\n",
        "\n",
        "for num in list(range(1,10)):\n",
        "  cuadrados.append(num**2)\n",
        "cuadrados"
      ],
      "metadata": {
        "colab": {
          "base_uri": "https://localhost:8080/"
        },
        "id": "d5ShvN8pPpSW",
        "outputId": "c2f97430-116d-4a1b-95ad-ce09710f34fd"
      },
      "execution_count": 15,
      "outputs": [
        {
          "output_type": "execute_result",
          "data": {
            "text/plain": [
              "[1, 4, 9, 16, 25, 36, 49, 64, 81]"
            ]
          },
          "metadata": {},
          "execution_count": 15
        }
      ]
    },
    {
      "cell_type": "markdown",
      "source": [
        "## comprension de listas"
      ],
      "metadata": {
        "id": "i2hrdRZyQuOO"
      }
    },
    {
      "cell_type": "code",
      "source": [
        "cuadrados= [numero**2 for numero in range(1,10)]\n",
        "cuadrados"
      ],
      "metadata": {
        "colab": {
          "base_uri": "https://localhost:8080/"
        },
        "id": "oE458SPcQtLP",
        "outputId": "8c2e4107-5427-4397-c2ea-33c029e51856"
      },
      "execution_count": 14,
      "outputs": [
        {
          "output_type": "execute_result",
          "data": {
            "text/plain": [
              "[1, 4, 9, 16, 25, 36, 49, 64, 81]"
            ]
          },
          "metadata": {},
          "execution_count": 14
        }
      ]
    },
    {
      "cell_type": "code",
      "source": [
        "cuadrados=[]\n",
        "\n",
        "for num in list(range(1,10)):\n",
        "  if num%2==0:\n",
        "    cuadrados.append(num**2)\n",
        "cuadrados"
      ],
      "metadata": {
        "colab": {
          "base_uri": "https://localhost:8080/"
        },
        "id": "xt0V5VDzQ4tK",
        "outputId": "a9dfe136-d594-461b-d7c2-1ddd889e9f84"
      },
      "execution_count": 16,
      "outputs": [
        {
          "output_type": "execute_result",
          "data": {
            "text/plain": [
              "[4, 16, 36, 64]"
            ]
          },
          "metadata": {},
          "execution_count": 16
        }
      ]
    },
    {
      "cell_type": "code",
      "source": [
        "cuadrados= [numero**2 for numero in range(1,10) if numero%2==0]\n",
        "cuadrados"
      ],
      "metadata": {
        "colab": {
          "base_uri": "https://localhost:8080/"
        },
        "id": "bSW5epafSEgu",
        "outputId": "d1c3a5fd-94f5-43f6-9bf6-53d5d2463446"
      },
      "execution_count": 18,
      "outputs": [
        {
          "output_type": "execute_result",
          "data": {
            "text/plain": [
              "[4, 16, 36, 64]"
            ]
          },
          "metadata": {},
          "execution_count": 18
        }
      ]
    },
    {
      "cell_type": "markdown",
      "source": [
        "# FOR- diccionarios"
      ],
      "metadata": {
        "id": "YcxwrAISSU9_"
      }
    },
    {
      "cell_type": "code",
      "source": [
        "empresas=[\"Facebook\",\"Twietter\",\"Apple\",\"Microsoft\"]\n",
        "precio_accion=[24.7, 293.6, 499.2, 228.2]"
      ],
      "metadata": {
        "id": "718Rc0AkSIxS"
      },
      "execution_count": 40,
      "outputs": []
    },
    {
      "cell_type": "code",
      "source": [
        "# se crea un diccionario con los valores de \"empresas\" y precio_accion\"\"\n",
        "dict_acciones={}\n",
        "\n",
        "for empresa, precio in zip(empresas, precio_accion):\n",
        "  dict_acciones[empresa]=precio\n",
        "dict_acciones"
      ],
      "metadata": {
        "colab": {
          "base_uri": "https://localhost:8080/"
        },
        "id": "oAFHoYuqSkFz",
        "outputId": "cc3b2bfa-aa4d-4cc0-ccb0-d67bc615916c"
      },
      "execution_count": 41,
      "outputs": [
        {
          "output_type": "execute_result",
          "data": {
            "text/plain": [
              "{'Facebook': 24.7, 'Twietter': 293.6, 'Apple': 499.2, 'Microsoft': 228.2}"
            ]
          },
          "metadata": {},
          "execution_count": 41
        }
      ]
    },
    {
      "cell_type": "code",
      "source": [
        "dict_accione_compacta={empresa:precio for empresa,precio in zip(empresas, precio_accion)}\n",
        "dict_accione_compacta"
      ],
      "metadata": {
        "colab": {
          "base_uri": "https://localhost:8080/"
        },
        "id": "1mrqQVqcS1YS",
        "outputId": "150f5670-e034-4905-d646-be8cd3775f9f"
      },
      "execution_count": 42,
      "outputs": [
        {
          "output_type": "execute_result",
          "data": {
            "text/plain": [
              "{'Facebook': 24.7, 'Twietter': 293.6, 'Apple': 499.2, 'Microsoft': 228.2}"
            ]
          },
          "metadata": {},
          "execution_count": 42
        }
      ]
    },
    {
      "cell_type": "code",
      "source": [
        "# deseo tomar un filtrado donde as acciones tengan determinado valor\n",
        "\n",
        "dict_filtrado={empresa:precio for empresa,precio in zip(empresas, precio_accion) if precio > 250}\n",
        "dict_filtrado"
      ],
      "metadata": {
        "colab": {
          "base_uri": "https://localhost:8080/"
        },
        "id": "SOnnGPXITMsG",
        "outputId": "32644fe7-d97a-4d9b-d121-765c2f71f5fc"
      },
      "execution_count": 44,
      "outputs": [
        {
          "output_type": "execute_result",
          "data": {
            "text/plain": [
              "{'Twietter': 293.6, 'Apple': 499.2}"
            ]
          },
          "metadata": {},
          "execution_count": 44
        }
      ]
    },
    {
      "cell_type": "markdown",
      "source": [
        "# Enumerate"
      ],
      "metadata": {
        "id": "knnaT24wU6X6"
      }
    },
    {
      "cell_type": "code",
      "source": [
        "lista_compras =[\"naranjas\",\"manzanas\",\"peras\",\"uvas\"]\n",
        "# mostrar los elemtos de la lista\n",
        "lista_compras"
      ],
      "metadata": {
        "colab": {
          "base_uri": "https://localhost:8080/"
        },
        "id": "bcQ6yyFDTxSh",
        "outputId": "ef2b8869-946d-4597-ba6d-b0134bf62f46"
      },
      "execution_count": 45,
      "outputs": [
        {
          "output_type": "execute_result",
          "data": {
            "text/plain": [
              "['naranjas', 'manzanas', 'peras', 'uvas']"
            ]
          },
          "metadata": {},
          "execution_count": 45
        }
      ]
    },
    {
      "cell_type": "code",
      "source": [
        "for fruta in lista_compras:\n",
        "  print(fruta)"
      ],
      "metadata": {
        "colab": {
          "base_uri": "https://localhost:8080/"
        },
        "id": "490YbsfFVMSQ",
        "outputId": "2d205aa8-6fd7-4a29-fe3a-c829e2d2976a"
      },
      "execution_count": 46,
      "outputs": [
        {
          "output_type": "stream",
          "name": "stdout",
          "text": [
            "naranjas\n",
            "manzanas\n",
            "peras\n",
            "uvas\n"
          ]
        }
      ]
    },
    {
      "cell_type": "code",
      "source": [
        "# enumerate permite colocar un índice en orden\n",
        "for fruta in enumerate(lista_compras):\n",
        "  print(fruta) #toma una tupla de 2 valores"
      ],
      "metadata": {
        "colab": {
          "base_uri": "https://localhost:8080/"
        },
        "id": "IPEUoDuYVSIq",
        "outputId": "1ea8a88e-5213-42b2-d4fe-7dcbd600a386"
      },
      "execution_count": 48,
      "outputs": [
        {
          "output_type": "stream",
          "name": "stdout",
          "text": [
            "(0, 'naranjas')\n",
            "(1, 'manzanas')\n",
            "(2, 'peras')\n",
            "(3, 'uvas')\n"
          ]
        }
      ]
    },
    {
      "cell_type": "code",
      "source": [
        "for nume,fruta in enumerate(lista_compras):\n",
        "  print(f\"{nume} se tiene la fruta {fruta}\")"
      ],
      "metadata": {
        "colab": {
          "base_uri": "https://localhost:8080/"
        },
        "id": "MQy0cJ4-VaYI",
        "outputId": "34bc0ac5-5020-4260-8038-1af3faa40636"
      },
      "execution_count": 49,
      "outputs": [
        {
          "output_type": "stream",
          "name": "stdout",
          "text": [
            "0 se tiene la fruta naranjas\n",
            "1 se tiene la fruta manzanas\n",
            "2 se tiene la fruta peras\n",
            "3 se tiene la fruta uvas\n"
          ]
        }
      ]
    },
    {
      "cell_type": "code",
      "source": [
        "# cambiar el inicio de enumeración desde 1\n",
        "for nume,fruta in enumerate(lista_compras,1):\n",
        "  print(f\"{nume}. {fruta}\")"
      ],
      "metadata": {
        "colab": {
          "base_uri": "https://localhost:8080/"
        },
        "id": "fyW1V2PrVt-s",
        "outputId": "deb7a199-8a5b-43fe-b150-7704bc4aebb1"
      },
      "execution_count": 51,
      "outputs": [
        {
          "output_type": "stream",
          "name": "stdout",
          "text": [
            "1. naranjas\n",
            "2. manzanas\n",
            "3. peras\n",
            "4. uvas\n"
          ]
        }
      ]
    },
    {
      "cell_type": "markdown",
      "source": [
        "# Ejercicios"
      ],
      "metadata": {
        "id": "U5B_9k4cWJew"
      }
    },
    {
      "cell_type": "code",
      "source": [
        "# escribir un programa que reciba un numero de un usuario y que imprima los cubos de los numeros menosres a este\n",
        "\n",
        "nume=int(input(\"Ingrese un numero: \"))\n",
        "\n",
        "cubos=[num**3 for num in list(range(1,nume))]\n",
        "cubos"
      ],
      "metadata": {
        "colab": {
          "base_uri": "https://localhost:8080/"
        },
        "id": "q3_0vmj9V3BN",
        "outputId": "8b35d0e0-bda8-4d7f-c2f3-f1f24d89c2c1"
      },
      "execution_count": 57,
      "outputs": [
        {
          "name": "stdout",
          "output_type": "stream",
          "text": [
            "Ingrese un numero: 5\n"
          ]
        },
        {
          "output_type": "execute_result",
          "data": {
            "text/plain": [
              "[1, 8, 27, 64]"
            ]
          },
          "metadata": {},
          "execution_count": 57
        }
      ]
    },
    {
      "cell_type": "code",
      "source": [
        "print(list(range(5))) # empieza en cero\n",
        "print(list(range(1,5))) # defino los limites, desde 1 al 5"
      ],
      "metadata": {
        "colab": {
          "base_uri": "https://localhost:8080/"
        },
        "id": "i2D0EgG0WI-6",
        "outputId": "ab2f49f8-b0a0-4362-e01f-d21f8d11325f"
      },
      "execution_count": 62,
      "outputs": [
        {
          "output_type": "stream",
          "name": "stdout",
          "text": [
            "[0, 1, 2, 3, 4]\n",
            "[1, 2, 3, 4]\n"
          ]
        }
      ]
    },
    {
      "cell_type": "code",
      "source": [
        "# escribir un programa que reciba un numero de un usuario e imprima si el numero es primo o no"
      ],
      "metadata": {
        "id": "toS0DV3LW-1G"
      },
      "execution_count": 63,
      "outputs": []
    },
    {
      "cell_type": "code",
      "source": [
        "numero=int(input(\"Ingrese un numero:\"))\n",
        "\n",
        "primo= True  #inicializo que si es primo\n",
        "\n",
        "if numero%2==0 and numero!=2: # todos los numeros pares NO son primos\n",
        "  primo=False\n",
        "else:\n",
        "  for divisor in range(3, numero, 2): # tomo los numeors impares, hasta propio el número\n",
        "    if numero %divisor==0:\n",
        "      primo=False\n",
        "      break\n",
        "# se marca la bandra en True o False para ver si es primo\n",
        "if primo:\n",
        "  print(f\"{numero} es primo\")\n",
        "else:\n",
        "  print(f\"{numero} NO es primo, es divisible entre {divisor} y {numero//divisor}\")\n",
        "\n"
      ],
      "metadata": {
        "colab": {
          "base_uri": "https://localhost:8080/"
        },
        "id": "yP51wL1BX_YW",
        "outputId": "78eb84b9-0c7a-474a-eac8-b042364ade33"
      },
      "execution_count": 147,
      "outputs": [
        {
          "output_type": "stream",
          "name": "stdout",
          "text": [
            "Ingrese un numero:35\n",
            "35 NO es primo, es divisible entre 5 y 7\n"
          ]
        }
      ]
    },
    {
      "cell_type": "code",
      "source": [
        "## factorial de un numero\n",
        "\n",
        "numero =5\n",
        "producto=1\n",
        "\n",
        "for n in range(1,numero+1):     # en el rango no se incluye el extremo derecho, el mayor valor\n",
        "  producto=producto*n\n",
        "print(f\"el factorial de {numero} es {producto}\")"
      ],
      "metadata": {
        "colab": {
          "base_uri": "https://localhost:8080/"
        },
        "id": "PUdemRHlqGPR",
        "outputId": "98104740-b428-4f37-c599-d3349d2c9044"
      },
      "execution_count": 152,
      "outputs": [
        {
          "output_type": "stream",
          "name": "stdout",
          "text": [
            "el factorial de 5 es 120\n"
          ]
        }
      ]
    },
    {
      "cell_type": "code",
      "source": [],
      "metadata": {
        "id": "V7sbRfn_rJXH"
      },
      "execution_count": null,
      "outputs": []
    }
  ]
}
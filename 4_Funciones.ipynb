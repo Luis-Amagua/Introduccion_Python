{
  "nbformat": 4,
  "nbformat_minor": 0,
  "metadata": {
    "colab": {
      "provenance": [],
      "authorship_tag": "ABX9TyMvioTzVqbu3U+yyQPnbakO",
      "include_colab_link": true
    },
    "kernelspec": {
      "name": "python3",
      "display_name": "Python 3"
    },
    "language_info": {
      "name": "python"
    }
  },
  "cells": [
    {
      "cell_type": "markdown",
      "metadata": {
        "id": "view-in-github",
        "colab_type": "text"
      },
      "source": [
        "<a href=\"https://colab.research.google.com/github/Luis-Amagua/Introduccion_Python/blob/main/4_Funciones.ipynb\" target=\"_parent\"><img src=\"https://colab.research.google.com/assets/colab-badge.svg\" alt=\"Open In Colab\"/></a>"
      ]
    },
    {
      "cell_type": "markdown",
      "source": [
        "# Funciones"
      ],
      "metadata": {
        "id": "XDHjO97Naey4"
      }
    },
    {
      "cell_type": "code",
      "execution_count": 13,
      "metadata": {
        "id": "jGYlc2tVaQud"
      },
      "outputs": [],
      "source": [
        "# escribir una funcion que devuelva el factorial de un numero\n",
        "\n",
        "def factorial(numero):\n",
        "  producto=1\n",
        "  for index in range(1,numero+1):\n",
        "    producto=producto*index\n",
        "  print(f\" el factorial de{numero} es {producto}\")"
      ]
    },
    {
      "cell_type": "code",
      "source": [
        "factorial(3)"
      ],
      "metadata": {
        "colab": {
          "base_uri": "https://localhost:8080/"
        },
        "id": "xgsgd6yxbgYP",
        "outputId": "39052161-42f2-480f-dc50-0afbee234cdb"
      },
      "execution_count": 14,
      "outputs": [
        {
          "output_type": "stream",
          "name": "stdout",
          "text": [
            " el factorial de3 es 6\n"
          ]
        }
      ]
    },
    {
      "cell_type": "code",
      "source": [
        "fact_5=factorial(5) #se muetra un valor, peor no se almacena nada, solo IMPRIME!\n"
      ],
      "metadata": {
        "colab": {
          "base_uri": "https://localhost:8080/"
        },
        "id": "wOs97d1CbkQZ",
        "outputId": "7e39111b-e6ff-45d2-9751-958a9c2d490c"
      },
      "execution_count": 19,
      "outputs": [
        {
          "output_type": "stream",
          "name": "stdout",
          "text": [
            " el factorial de5 es 120\n"
          ]
        }
      ]
    },
    {
      "cell_type": "code",
      "source": [
        "fact_5"
      ],
      "metadata": {
        "id": "BttPVa0ydo2-"
      },
      "execution_count": 20,
      "outputs": []
    },
    {
      "cell_type": "code",
      "source": [
        "\n",
        "def factorial2(numero):\n",
        "  producto=1\n",
        "  for index in range(1,numero+1):\n",
        "    producto=producto*index\n",
        "  return(producto)\n"
      ],
      "metadata": {
        "id": "YRniEGgidsTB"
      },
      "execution_count": 23,
      "outputs": []
    },
    {
      "cell_type": "code",
      "source": [
        "fact_6=factorial2(6)\n",
        "fact_6"
      ],
      "metadata": {
        "colab": {
          "base_uri": "https://localhost:8080/"
        },
        "id": "8TqIoCqpjx7z",
        "outputId": "a326256e-b163-4d26-c151-958a6e8235ef"
      },
      "execution_count": 25,
      "outputs": [
        {
          "output_type": "execute_result",
          "data": {
            "text/plain": [
              "720"
            ]
          },
          "metadata": {},
          "execution_count": 25
        }
      ]
    },
    {
      "cell_type": "code",
      "source": [
        "# escribir un programa que devuelva una tupla de r1/r2 y r2/r1\n",
        "\n",
        "def ratios (num1, num2):\n",
        "  r1=num1/num2\n",
        "  r2=num2/num1\n",
        "  return r1,r2"
      ],
      "metadata": {
        "id": "tQdks43Kj7ej"
      },
      "execution_count": 27,
      "outputs": []
    },
    {
      "cell_type": "code",
      "source": [
        "ratios(2,6)"
      ],
      "metadata": {
        "colab": {
          "base_uri": "https://localhost:8080/"
        },
        "id": "BXS4te_pkLsl",
        "outputId": "e95288b4-6932-48fc-a8bf-fba7e1a00292"
      },
      "execution_count": 29,
      "outputs": [
        {
          "output_type": "execute_result",
          "data": {
            "text/plain": [
              "(0.3333333333333333, 3.0)"
            ]
          },
          "metadata": {},
          "execution_count": 29
        }
      ]
    },
    {
      "cell_type": "code",
      "source": [
        "# al tener una tupla de resultado, se puede usar una asignacion directa de los elementos\n",
        "\n",
        "ratio1, ratio2 = ratios(2,6)\n",
        "\n",
        "print(ratio1)   # asigna el primer elemento de la tupla de la funcion\n",
        "print(ratio2)   # asigna el segundo elemento"
      ],
      "metadata": {
        "colab": {
          "base_uri": "https://localhost:8080/"
        },
        "id": "s2nVNyvpkQfr",
        "outputId": "b8390bc9-c412-4674-d853-ddc5a350ed70"
      },
      "execution_count": 31,
      "outputs": [
        {
          "output_type": "stream",
          "name": "stdout",
          "text": [
            "0.3333333333333333\n",
            "3.0\n"
          ]
        }
      ]
    },
    {
      "cell_type": "markdown",
      "source": [
        "Se pueden pasar un numero de argumentos no especificos con \"*\" antes de la funcion"
      ],
      "metadata": {
        "id": "r-rhpmNWx8BB"
      }
    },
    {
      "cell_type": "code",
      "source": [
        "def suma_varios(*numeros):  # no especifico cuantos parametros debo tener en la funcion\n",
        "  suma_total=0\n",
        "\n",
        "  for num in numeros:\n",
        "    suma_total=suma_total+num\n",
        "  return suma_total\n",
        "\n"
      ],
      "metadata": {
        "id": "6Vi1-cwSkdzz"
      },
      "execution_count": 35,
      "outputs": []
    },
    {
      "cell_type": "code",
      "source": [
        "suma_varios(1,2,3,4,5)"
      ],
      "metadata": {
        "colab": {
          "base_uri": "https://localhost:8080/"
        },
        "id": "2rBU6VTtyc4I",
        "outputId": "0a70bcc6-9012-46fa-878a-f65ca47550dd"
      },
      "execution_count": 34,
      "outputs": [
        {
          "output_type": "execute_result",
          "data": {
            "text/plain": [
              "15"
            ]
          },
          "metadata": {},
          "execution_count": 34
        }
      ]
    },
    {
      "cell_type": "markdown",
      "source": [
        "## **kwargs"
      ],
      "metadata": {
        "id": "8g2s9A-Ay8YO"
      }
    },
    {
      "cell_type": "code",
      "source": [
        "def variables_parametros(**variables): \n",
        "  print(variables)\n",
        "  print(type(variables))"
      ],
      "metadata": {
        "id": "3WvvqNngyfyr"
      },
      "execution_count": 36,
      "outputs": []
    },
    {
      "cell_type": "code",
      "source": [
        "variables_parametros(nombre=\"Luis\", puesto=\"Data Scientist\") # almecena diccionarios"
      ],
      "metadata": {
        "colab": {
          "base_uri": "https://localhost:8080/"
        },
        "id": "lFBvtrA1zIr9",
        "outputId": "09dea3f6-0bbf-43c6-fbe7-4d9250140735"
      },
      "execution_count": 38,
      "outputs": [
        {
          "output_type": "stream",
          "name": "stdout",
          "text": [
            "{'nombre': 'Luis', 'puesto': 'Data Scientist'}\n",
            "<class 'dict'>\n"
          ]
        }
      ]
    },
    {
      "cell_type": "code",
      "source": [
        "def caracteristicas(**variables): \n",
        "  for key, value in variables.items():\n",
        "    print(f\"{key}:{value}\")\n"
      ],
      "metadata": {
        "id": "R1jP9GVvzOvK"
      },
      "execution_count": 40,
      "outputs": []
    },
    {
      "cell_type": "code",
      "source": [
        "caracteristicas(nombre=\"Luis\", puesto=\"Data Scientist\") "
      ],
      "metadata": {
        "colab": {
          "base_uri": "https://localhost:8080/"
        },
        "id": "3meKlla9zuTH",
        "outputId": "ee001372-da34-44e5-9900-4bb388232cd2"
      },
      "execution_count": 42,
      "outputs": [
        {
          "output_type": "stream",
          "name": "stdout",
          "text": [
            "nombre:Luis\n",
            "puesto:Data Scientist\n"
          ]
        }
      ]
    },
    {
      "cell_type": "markdown",
      "source": [
        "# Funciones Lambda"
      ],
      "metadata": {
        "id": "p2Al_cM3z_DB"
      }
    },
    {
      "cell_type": "code",
      "source": [
        "def potencia(base, exp):\n",
        "  return(base**exp)\n",
        "\n",
        "potencia(2,3)"
      ],
      "metadata": {
        "colab": {
          "base_uri": "https://localhost:8080/"
        },
        "id": "_BneD0iLz99F",
        "outputId": "936a5532-99ed-4f2a-af4a-a46452a5c8ad"
      },
      "execution_count": 44,
      "outputs": [
        {
          "output_type": "execute_result",
          "data": {
            "text/plain": [
              "8"
            ]
          },
          "metadata": {},
          "execution_count": 44
        }
      ]
    },
    {
      "cell_type": "code",
      "source": [
        "potencia_lambda=lambda base, exponente: base**exponente\n",
        "potencia_lambda(2,3)"
      ],
      "metadata": {
        "colab": {
          "base_uri": "https://localhost:8080/"
        },
        "id": "Mtoage_c0HVN",
        "outputId": "99cb3b17-4e9c-474d-d0d2-419f200144d0"
      },
      "execution_count": 47,
      "outputs": [
        {
          "output_type": "execute_result",
          "data": {
            "text/plain": [
              "8"
            ]
          },
          "metadata": {},
          "execution_count": 47
        }
      ]
    },
    {
      "cell_type": "markdown",
      "source": [
        "se peude incluir un parrafo comentando con comillas triples"
      ],
      "metadata": {
        "id": "zB8jCgJI1p0l"
      }
    },
    {
      "cell_type": "code",
      "source": [
        "def potencia(base, exp):\n",
        "  \"\"\"\n",
        "  Es necesario describir lo que hace una funcion:\n",
        "  Esta funcion encuentra la potencia, base elevado a exponente\n",
        "  los parametros que necesita: base, exp \n",
        "  \"\"\"\n",
        "  return(base**exp)\n",
        "\n",
        "potencia(2,3)"
      ],
      "metadata": {
        "colab": {
          "base_uri": "https://localhost:8080/"
        },
        "id": "XoBmwZWZ0Onz",
        "outputId": "408bed98-13ba-465f-89fb-c8d08db9ae53"
      },
      "execution_count": 48,
      "outputs": [
        {
          "output_type": "execute_result",
          "data": {
            "text/plain": [
              "8"
            ]
          },
          "metadata": {},
          "execution_count": 48
        }
      ]
    },
    {
      "cell_type": "markdown",
      "source": [
        "# Map, Filter, Reduce"
      ],
      "metadata": {
        "id": "K6Af3S2O_5lk"
      }
    },
    {
      "cell_type": "code",
      "source": [
        "lista=[1,2,3,4,5]\n",
        "\n",
        "# tener una lista de los cuadrado de la lista anterior\n",
        "[num **2 for num in lista]\n"
      ],
      "metadata": {
        "colab": {
          "base_uri": "https://localhost:8080/"
        },
        "id": "PRid3Ofy1_Ph",
        "outputId": "817e29dc-9074-4ab3-c56c-a14be5fd107e"
      },
      "execution_count": 50,
      "outputs": [
        {
          "output_type": "execute_result",
          "data": {
            "text/plain": [
              "[1, 4, 9, 16, 25]"
            ]
          },
          "metadata": {},
          "execution_count": 50
        }
      ]
    },
    {
      "cell_type": "code",
      "source": [
        "# funcion para elevar al cuadrado\n",
        "\n",
        "elevar_cuadrado=lambda numero: numero*2\n",
        "elevar_cuadrado(3)"
      ],
      "metadata": {
        "colab": {
          "base_uri": "https://localhost:8080/"
        },
        "id": "0P_F3T6rCArY",
        "outputId": "c687edeb-9320-4257-c6be-6808e9994691"
      },
      "execution_count": 52,
      "outputs": [
        {
          "output_type": "execute_result",
          "data": {
            "text/plain": [
              "6"
            ]
          },
          "metadata": {},
          "execution_count": 52
        }
      ]
    },
    {
      "cell_type": "code",
      "source": [
        "# ahora se usa la funcion una lista\n",
        "list(map(elevar_cuadrado,lista))"
      ],
      "metadata": {
        "colab": {
          "base_uri": "https://localhost:8080/"
        },
        "id": "DnvZwMYUCM9-",
        "outputId": "c12978bf-de33-4cd4-c847-c39af8bc4dda"
      },
      "execution_count": 54,
      "outputs": [
        {
          "output_type": "execute_result",
          "data": {
            "text/plain": [
              "[2, 4, 6, 8, 10]"
            ]
          },
          "metadata": {},
          "execution_count": 54
        }
      ]
    },
    {
      "cell_type": "markdown",
      "source": [
        "#Filtro"
      ],
      "metadata": {
        "id": "bXTrFFb0JJmC"
      }
    },
    {
      "cell_type": "code",
      "source": [
        "lista=list(range(1,101))\n",
        "# una lista de 1 al 100 donde sean divisibles para 20\n",
        "[numero for numero in lista if numero %20==0] "
      ],
      "metadata": {
        "colab": {
          "base_uri": "https://localhost:8080/"
        },
        "id": "p7WrNo48JRaX",
        "outputId": "fcce0a63-63bc-4097-9db4-1761de1ec41f"
      },
      "execution_count": 58,
      "outputs": [
        {
          "output_type": "execute_result",
          "data": {
            "text/plain": [
              "[20, 40, 60, 80, 100]"
            ]
          },
          "metadata": {},
          "execution_count": 58
        }
      ]
    },
    {
      "cell_type": "code",
      "source": [
        "# creo un filtro\n",
        "\n",
        "filtro= lambda numero: numero%20== 0# filtro\n",
        "\n",
        "list(filter(filtro,lista))"
      ],
      "metadata": {
        "colab": {
          "base_uri": "https://localhost:8080/"
        },
        "id": "c1-K2AknCWm6",
        "outputId": "30dd9a54-4c20-481d-a760-92731d3ac688"
      },
      "execution_count": 62,
      "outputs": [
        {
          "output_type": "execute_result",
          "data": {
            "text/plain": [
              "[20, 40, 60, 80, 100]"
            ]
          },
          "metadata": {},
          "execution_count": 62
        }
      ]
    },
    {
      "cell_type": "code",
      "source": [
        "# reduce\n",
        "\n",
        "from functools import reduce # importo la funcion reduce\n",
        "lista=list(range(1,6))"
      ],
      "metadata": {
        "id": "kktW16ZVJQIe"
      },
      "execution_count": 66,
      "outputs": []
    },
    {
      "cell_type": "code",
      "source": [
        "reductor= lambda a,b: a+b # el reductor toma dos elementos y los va sumando \n",
        "# lista=[1,2,3,4,5]\n",
        "reduce(reductor, lista) "
      ],
      "metadata": {
        "colab": {
          "base_uri": "https://localhost:8080/"
        },
        "id": "BiTf3qdSLmxC",
        "outputId": "c8056568-e5f2-4129-9cf8-4098631245b2"
      },
      "execution_count": 68,
      "outputs": [
        {
          "output_type": "execute_result",
          "data": {
            "text/plain": [
              "15"
            ]
          },
          "metadata": {},
          "execution_count": 68
        }
      ]
    },
    {
      "cell_type": "markdown",
      "source": [
        "# Importar funciones de Python"
      ],
      "metadata": {
        "id": "RjcDf9zYMhGa"
      }
    },
    {
      "cell_type": "code",
      "source": [
        "from random import shuffle\n",
        "\n",
        "lista=list(range(1,7))\n",
        "print(lista)"
      ],
      "metadata": {
        "colab": {
          "base_uri": "https://localhost:8080/"
        },
        "id": "1JUSc8LfMjod",
        "outputId": "995c6052-d15a-4795-c6d6-dc1d93f7ce8a"
      },
      "execution_count": 71,
      "outputs": [
        {
          "output_type": "stream",
          "name": "stdout",
          "text": [
            "[1, 2, 3, 4, 5, 6]\n"
          ]
        }
      ]
    },
    {
      "cell_type": "code",
      "source": [
        "shuffle(lista) # cambia el orden de forma aleatoria\n",
        "lista"
      ],
      "metadata": {
        "colab": {
          "base_uri": "https://localhost:8080/"
        },
        "id": "ruKIxpyPNrX_",
        "outputId": "683b4fb7-c3d6-4dad-8707-bc62ecccb32c"
      },
      "execution_count": 76,
      "outputs": [
        {
          "output_type": "execute_result",
          "data": {
            "text/plain": [
              "[5, 1, 3, 2, 4, 6]"
            ]
          },
          "metadata": {},
          "execution_count": 76
        }
      ]
    },
    {
      "cell_type": "code",
      "source": [
        "a=[7,2,9,3,6]\n",
        "b=shuffle(a)\n",
        "print(a)"
      ],
      "metadata": {
        "colab": {
          "base_uri": "https://localhost:8080/"
        },
        "id": "CwCvFGKGODlo",
        "outputId": "51210091-c476-44b6-9d25-aa9d0a790808"
      },
      "execution_count": 78,
      "outputs": [
        {
          "output_type": "stream",
          "name": "stdout",
          "text": [
            "[2, 6, 9, 7, 3]\n"
          ]
        }
      ]
    },
    {
      "cell_type": "code",
      "source": [
        "from random import randint # numero entero aleatorio, está implementado en random \n",
        "randint(10,20)"
      ],
      "metadata": {
        "colab": {
          "base_uri": "https://localhost:8080/"
        },
        "id": "Lti3HRlAOInD",
        "outputId": "067f9c0e-e995-4897-d597-adf91906a3d3"
      },
      "execution_count": 80,
      "outputs": [
        {
          "output_type": "execute_result",
          "data": {
            "text/plain": [
              "12"
            ]
          },
          "metadata": {},
          "execution_count": 80
        }
      ]
    },
    {
      "cell_type": "markdown",
      "source": [
        "# Ejercicios"
      ],
      "metadata": {
        "id": "uNBYEk5KO_vc"
      }
    },
    {
      "cell_type": "code",
      "source": [
        "import string\n",
        "from string import ascii_lowercase\n",
        "alfabeto= string.ascii_lowercase"
      ],
      "metadata": {
        "id": "fKYeRRcwVX1F"
      },
      "execution_count": 132,
      "outputs": []
    },
    {
      "cell_type": "code",
      "source": [
        "# escribir un programa que indique si el texto es un pangram, es decir, si tiene todas las letras del abecedario\n",
        "\n",
        "\n",
        "def es_pangram(frase):\n",
        "  \"\"\"\n",
        "  Devuelve True si es un pangram, y False si no lo es\n",
        "  \"\"\"\n",
        "  alfabeto= string.ascii_lowercase\n",
        "\n",
        "  frase=frase.lower()               # todo el texto a minusculas\n",
        "  caracteres=list(set(frase))       # se usa set para eliminar letras duplicados\n",
        "\n",
        "  for caracter in alfabeto:\n",
        "    if caracter not in caracteres:\n",
        "      return False\n",
        "  return True    \n",
        "\n"
      ],
      "metadata": {
        "id": "KhSX1DJyOurV"
      },
      "execution_count": 133,
      "outputs": []
    },
    {
      "cell_type": "code",
      "source": [
        "es_pangram(\"abcdefghijklmnopqrstuvwxyz\")"
      ],
      "metadata": {
        "colab": {
          "base_uri": "https://localhost:8080/"
        },
        "id": "zgwIMwi0P7Fq",
        "outputId": "37de6c07-0494-4fa4-be94-abdc3ad21946"
      },
      "execution_count": 136,
      "outputs": [
        {
          "output_type": "execute_result",
          "data": {
            "text/plain": [
              "True"
            ]
          },
          "metadata": {},
          "execution_count": 136
        }
      ]
    },
    {
      "cell_type": "code",
      "source": [
        "es_pangram(\"Este no es un pangram\")\n",
        "\n"
      ],
      "metadata": {
        "colab": {
          "base_uri": "https://localhost:8080/"
        },
        "id": "YDX0DC7EP7j9",
        "outputId": "ec97c826-eb0a-421b-f416-ea140f3c4079"
      },
      "execution_count": 137,
      "outputs": [
        {
          "output_type": "execute_result",
          "data": {
            "text/plain": [
              "False"
            ]
          },
          "metadata": {},
          "execution_count": 137
        }
      ]
    },
    {
      "cell_type": "markdown",
      "source": [
        "## Numeros perfectos\n",
        " Un número es perfecto si la suma de tosos sus dividores es igual al mismo número, es decir, un número es perfecto si es amigo de sí mismo.\n",
        "\n",
        " 6=1+2+3, es un número perfecto\n",
        " 28= 1+2+4+7+14=28 es un número perfecto"
      ],
      "metadata": {
        "id": "3YyYif87WL7c"
      }
    },
    {
      "cell_type": "code",
      "source": [
        "# hallar los divisores de un numero\n",
        "def divisores_propios(numero):\n",
        "  return[divisor for divisor in range(1,numero) if numero%divisor==0]\n",
        "\n",
        "divisores_propios(6)"
      ],
      "metadata": {
        "colab": {
          "base_uri": "https://localhost:8080/"
        },
        "id": "fl8I9WNsW3fS",
        "outputId": "a1952e87-4471-46e2-94e4-6c246b8da18e"
      },
      "execution_count": 139,
      "outputs": [
        {
          "output_type": "execute_result",
          "data": {
            "text/plain": [
              "[1, 2, 3]"
            ]
          },
          "metadata": {},
          "execution_count": 139
        }
      ]
    },
    {
      "cell_type": "code",
      "source": [
        "def es_perfecto(numero):\n",
        "  valores=divisores_propios(numero)\n",
        "  reductor=lambda a,b: a+b\n",
        "  if reduce(reductor,valores)==numero:\n",
        "    print(\"SI es numero perfecto\")\n",
        "  else:\n",
        "    print(\"No es perfecto\")\n",
        "\n",
        "\n"
      ],
      "metadata": {
        "id": "8xUuPhoXRULr"
      },
      "execution_count": 146,
      "outputs": []
    },
    {
      "cell_type": "code",
      "source": [
        "es_perfecto(7)"
      ],
      "metadata": {
        "colab": {
          "base_uri": "https://localhost:8080/"
        },
        "id": "1Vr2_z1aXx67",
        "outputId": "765040b7-1ac2-490a-e517-5e29ffc357d4"
      },
      "execution_count": 147,
      "outputs": [
        {
          "output_type": "stream",
          "name": "stdout",
          "text": [
            "No es perfecto\n"
          ]
        }
      ]
    },
    {
      "cell_type": "code",
      "source": [
        "es_perfecto(8128)"
      ],
      "metadata": {
        "colab": {
          "base_uri": "https://localhost:8080/"
        },
        "id": "t1j3YMb_X3SD",
        "outputId": "9d0bc293-a7ee-4072-956c-fc097129e42a"
      },
      "execution_count": 148,
      "outputs": [
        {
          "output_type": "stream",
          "name": "stdout",
          "text": [
            "SI es numero perfecto\n"
          ]
        }
      ]
    },
    {
      "cell_type": "code",
      "source": [
        "def es_perfecto2(numero):\n",
        "  valores=divisores_propios(numero)\n",
        "  if sum(valores)==numero:\n",
        "    print(\"SI es numero perfecto\")\n",
        "  else:\n",
        "    print(\"No es perfecto\")"
      ],
      "metadata": {
        "id": "TUqCfPdJYuNy"
      },
      "execution_count": 150,
      "outputs": []
    },
    {
      "cell_type": "code",
      "source": [
        "es_perfecto2(7)"
      ],
      "metadata": {
        "colab": {
          "base_uri": "https://localhost:8080/"
        },
        "id": "2Gma399TY3Ci",
        "outputId": "29d1c106-6793-4c6c-9c5d-36efbdd1ebda"
      },
      "execution_count": 151,
      "outputs": [
        {
          "output_type": "stream",
          "name": "stdout",
          "text": [
            "No es perfecto\n"
          ]
        }
      ]
    },
    {
      "cell_type": "code",
      "source": [
        "es_perfecto2(8128)"
      ],
      "metadata": {
        "id": "Emctwu4UY5nj",
        "outputId": "4a3fe6cf-801f-42fa-8176-650dd3f527ab",
        "colab": {
          "base_uri": "https://localhost:8080/"
        }
      },
      "execution_count": 152,
      "outputs": [
        {
          "output_type": "stream",
          "name": "stdout",
          "text": [
            "SI es numero perfecto\n"
          ]
        }
      ]
    },
    {
      "cell_type": "code",
      "source": [],
      "metadata": {
        "id": "u8IOzKPUY7oj"
      },
      "execution_count": null,
      "outputs": []
    }
  ]
}
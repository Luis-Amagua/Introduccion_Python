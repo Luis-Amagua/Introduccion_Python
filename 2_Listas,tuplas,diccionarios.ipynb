{
  "nbformat": 4,
  "nbformat_minor": 0,
  "metadata": {
    "colab": {
      "provenance": [],
      "authorship_tag": "ABX9TyOsDcjU9L+6jckcyAX7wGhL",
      "include_colab_link": true
    },
    "kernelspec": {
      "name": "python3",
      "display_name": "Python 3"
    },
    "language_info": {
      "name": "python"
    }
  },
  "cells": [
    {
      "cell_type": "markdown",
      "metadata": {
        "id": "view-in-github",
        "colab_type": "text"
      },
      "source": [
        "<a href=\"https://colab.research.google.com/github/Luis-Amagua/Introduccion_Python/blob/main/2_Listas%2Ctuplas%2Cdiccionarios.ipynb\" target=\"_parent\"><img src=\"https://colab.research.google.com/assets/colab-badge.svg\" alt=\"Open In Colab\"/></a>"
      ]
    },
    {
      "cell_type": "markdown",
      "source": [
        "# Listas"
      ],
      "metadata": {
        "id": "TjGVowOXlc_k"
      }
    },
    {
      "cell_type": "code",
      "execution_count": 8,
      "metadata": {
        "id": "IE4fxAxLfgJ9",
        "colab": {
          "base_uri": "https://localhost:8080/"
        },
        "outputId": "8362191f-229a-4710-aa7e-ac370ca032c2"
      },
      "outputs": [
        {
          "output_type": "execute_result",
          "data": {
            "text/plain": [
              "list"
            ]
          },
          "metadata": {},
          "execution_count": 8
        }
      ],
      "source": [
        "lista=[3,\"hola\",3.5, True] # diferentes tipos de datos\n",
        "type(lista)"
      ]
    },
    {
      "cell_type": "code",
      "source": [
        "print(lista[0])    # primer elemento\n",
        "print(lista[-1])   # ultimo elemento"
      ],
      "metadata": {
        "colab": {
          "base_uri": "https://localhost:8080/"
        },
        "id": "Ruf6dPTold-N",
        "outputId": "779fa5a7-ba11-4f35-9740-c2269a9be3c5"
      },
      "execution_count": 9,
      "outputs": [
        {
          "output_type": "stream",
          "name": "stdout",
          "text": [
            "3\n",
            "True\n"
          ]
        }
      ]
    },
    {
      "cell_type": "code",
      "source": [
        "lista=[10,20,30,40,50,60,70,80,90,100]\n",
        "\n",
        "print(lista[2:5])   # NO SE INCLUYE EL ULTIMO ELEMENTO\n",
        "print(lista[2:-2])  # NO SE INCLUYE EL ULTIMO ELEMENTO"
      ],
      "metadata": {
        "colab": {
          "base_uri": "https://localhost:8080/"
        },
        "id": "PPsmACTSlsCt",
        "outputId": "96d96a1e-02ef-4a4d-8179-075b090a01c5"
      },
      "execution_count": 13,
      "outputs": [
        {
          "output_type": "stream",
          "name": "stdout",
          "text": [
            "[30, 40, 50]\n",
            "[30, 40, 50, 60, 70, 80]\n"
          ]
        }
      ]
    },
    {
      "cell_type": "markdown",
      "source": [
        "# Operaciones de listas"
      ],
      "metadata": {
        "id": "j2MZ4gcdm5iA"
      }
    },
    {
      "cell_type": "code",
      "source": [
        "lista1=[10,20,30]\n",
        "lista2=[4,5,6]\n",
        "\n",
        "print(lista1+lista2)      # se agrega al final\n",
        "print(5*lista2)           # se repite 5 veces la lista"
      ],
      "metadata": {
        "colab": {
          "base_uri": "https://localhost:8080/"
        },
        "id": "OHrfVnuHmh9F",
        "outputId": "4cb5e949-8073-4095-b16d-6c545dc77d66"
      },
      "execution_count": 16,
      "outputs": [
        {
          "output_type": "stream",
          "name": "stdout",
          "text": [
            "[10, 20, 30, 4, 5, 6]\n",
            "[4, 5, 6, 4, 5, 6, 4, 5, 6, 4, 5, 6, 4, 5, 6]\n"
          ]
        }
      ]
    },
    {
      "cell_type": "code",
      "source": [
        "lista=[10,20,30,40,50,60,70,80,90,100]\n",
        "len(lista)   # longitud de la lista\n",
        "\n",
        "lista.append(110) # se agrega un elemento al final de la lista\n",
        "print(lista)\n",
        "\n",
        "lista.insert(5,-100) # inserto en la posicion \"-5\" el valor de \"-100\"\n",
        "print(lista)"
      ],
      "metadata": {
        "colab": {
          "base_uri": "https://localhost:8080/"
        },
        "id": "aD47Pc6cnGlO",
        "outputId": "38f04d3b-937e-4563-d0cd-b848d264d5b7"
      },
      "execution_count": 22,
      "outputs": [
        {
          "output_type": "stream",
          "name": "stdout",
          "text": [
            "[10, 20, 30, 40, 50, 60, 70, 80, 90, 100, 110]\n",
            "[10, 20, 30, 40, 50, -100, 60, 70, 80, 90, 100, 110]\n"
          ]
        }
      ]
    },
    {
      "cell_type": "code",
      "source": [
        "lista=[10,20,30,40,50,60,70,80,90,100]\n",
        "lista.pop(5) # elimino el elemento de la posicion 5\n",
        "lista\n",
        "\n",
        "# otra forma de eliminar en particular\n",
        "lista.remove(70) # elimino el valor 70, no importa la posicion que está\n",
        "print(lista)"
      ],
      "metadata": {
        "colab": {
          "base_uri": "https://localhost:8080/"
        },
        "id": "ADnW0nvJnfal",
        "outputId": "55fb519e-bbeb-4dee-b584-ca9d5f518625"
      },
      "execution_count": 32,
      "outputs": [
        {
          "output_type": "stream",
          "name": "stdout",
          "text": [
            "[10, 20, 30, 40, 50, 80, 90, 100]\n"
          ]
        }
      ]
    },
    {
      "cell_type": "code",
      "source": [
        "lista=[40,50,12,14,98,34,-20]\n",
        "lista[2]=-12   # reemplaza valores en la lista\n",
        "print(lista)\n"
      ],
      "metadata": {
        "colab": {
          "base_uri": "https://localhost:8080/"
        },
        "id": "_KgjaaqFoCmB",
        "outputId": "f6cb957c-163f-42ff-e7b8-4c37b3ee72b0"
      },
      "execution_count": 34,
      "outputs": [
        {
          "output_type": "stream",
          "name": "stdout",
          "text": [
            "[40, 50, -12, 14, 98, 34, -20]\n"
          ]
        }
      ]
    },
    {
      "cell_type": "code",
      "source": [
        "lista.sort()  # ordeno ascendente\n",
        "print(lista)\n",
        "\n",
        "lista.reverse() # ordenado al reves (NO NECESARIAMENTE ASC O DESC)\n",
        "print(lista)  "
      ],
      "metadata": {
        "colab": {
          "base_uri": "https://localhost:8080/"
        },
        "id": "tJEKXoTwo84q",
        "outputId": "528aba84-3821-429b-ae75-a82b325b4cee"
      },
      "execution_count": 40,
      "outputs": [
        {
          "output_type": "stream",
          "name": "stdout",
          "text": [
            "[-20, -12, 14, 34, 40, 50, 98]\n",
            "[98, 50, 40, 34, 14, -12, -20]\n"
          ]
        }
      ]
    },
    {
      "cell_type": "markdown",
      "source": [
        "## Mutabilidad de listas"
      ],
      "metadata": {
        "id": "xCP7IEkhqdVn"
      }
    },
    {
      "cell_type": "code",
      "source": [
        "lista=[1,2,3,4,5]\n",
        "lista[2]=4         # puedo reemplazar los elementos es MUTABLE\n",
        "print(lista)"
      ],
      "metadata": {
        "colab": {
          "base_uri": "https://localhost:8080/"
        },
        "id": "XkWzLFfRpTRm",
        "outputId": "6636f0d6-bf96-4346-a13c-8356481973cc"
      },
      "execution_count": 42,
      "outputs": [
        {
          "output_type": "stream",
          "name": "stdout",
          "text": [
            "[1, 2, 4, 4, 5]\n"
          ]
        }
      ]
    },
    {
      "cell_type": "code",
      "source": [
        "lista=\"Hola mundo\"\n",
        "print(lista[2])           # devuelve el segundo elemento\n",
        "lista[2]=\"a\"              # no se puede reemplazar, no es una lista, no es mutable"
      ],
      "metadata": {
        "colab": {
          "base_uri": "https://localhost:8080/",
          "height": 219
        },
        "id": "G58FhstGqz8I",
        "outputId": "08646492-1528-4e10-9c39-bf52e61b567f"
      },
      "execution_count": 46,
      "outputs": [
        {
          "output_type": "stream",
          "name": "stdout",
          "text": [
            "l\n"
          ]
        },
        {
          "output_type": "error",
          "ename": "TypeError",
          "evalue": "ignored",
          "traceback": [
            "\u001b[0;31m---------------------------------------------------------------------------\u001b[0m",
            "\u001b[0;31mTypeError\u001b[0m                                 Traceback (most recent call last)",
            "\u001b[0;32m<ipython-input-46-8378faee3a39>\u001b[0m in \u001b[0;36m<module>\u001b[0;34m\u001b[0m\n\u001b[1;32m      1\u001b[0m \u001b[0mlista\u001b[0m\u001b[0;34m=\u001b[0m\u001b[0;34m\"Hola mundo\"\u001b[0m\u001b[0;34m\u001b[0m\u001b[0;34m\u001b[0m\u001b[0m\n\u001b[1;32m      2\u001b[0m \u001b[0mprint\u001b[0m\u001b[0;34m(\u001b[0m\u001b[0mlista\u001b[0m\u001b[0;34m[\u001b[0m\u001b[0;36m2\u001b[0m\u001b[0;34m]\u001b[0m\u001b[0;34m)\u001b[0m           \u001b[0;31m# devuelve el segundo elemento\u001b[0m\u001b[0;34m\u001b[0m\u001b[0;34m\u001b[0m\u001b[0m\n\u001b[0;32m----> 3\u001b[0;31m \u001b[0mlista\u001b[0m\u001b[0;34m[\u001b[0m\u001b[0;36m2\u001b[0m\u001b[0;34m]\u001b[0m\u001b[0;34m=\u001b[0m\u001b[0;34m\"a\"\u001b[0m              \u001b[0;31m# no se puede reemplazar, no es una lista, no es mutable\u001b[0m\u001b[0;34m\u001b[0m\u001b[0;34m\u001b[0m\u001b[0m\n\u001b[0m",
            "\u001b[0;31mTypeError\u001b[0m: 'str' object does not support item assignment"
          ]
        }
      ]
    },
    {
      "cell_type": "code",
      "source": [],
      "metadata": {
        "id": "CB5xkyVKq-o4"
      },
      "execution_count": null,
      "outputs": []
    }
  ]
}
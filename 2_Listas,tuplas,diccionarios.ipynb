{
  "nbformat": 4,
  "nbformat_minor": 0,
  "metadata": {
    "colab": {
      "provenance": [],
      "authorship_tag": "ABX9TyOHQM3eUizqRpLLK8TqDuJN",
      "include_colab_link": true
    },
    "kernelspec": {
      "name": "python3",
      "display_name": "Python 3"
    },
    "language_info": {
      "name": "python"
    }
  },
  "cells": [
    {
      "cell_type": "markdown",
      "metadata": {
        "id": "view-in-github",
        "colab_type": "text"
      },
      "source": [
        "<a href=\"https://colab.research.google.com/github/Luis-Amagua/Introduccion_Python/blob/main/2_Listas%2Ctuplas%2Cdiccionarios.ipynb\" target=\"_parent\"><img src=\"https://colab.research.google.com/assets/colab-badge.svg\" alt=\"Open In Colab\"/></a>"
      ]
    },
    {
      "cell_type": "markdown",
      "source": [
        "# Listas"
      ],
      "metadata": {
        "id": "TjGVowOXlc_k"
      }
    },
    {
      "cell_type": "code",
      "execution_count": 8,
      "metadata": {
        "id": "IE4fxAxLfgJ9",
        "colab": {
          "base_uri": "https://localhost:8080/"
        },
        "outputId": "8362191f-229a-4710-aa7e-ac370ca032c2"
      },
      "outputs": [
        {
          "output_type": "execute_result",
          "data": {
            "text/plain": [
              "list"
            ]
          },
          "metadata": {},
          "execution_count": 8
        }
      ],
      "source": [
        "lista=[3,\"hola\",3.5, True] # diferentes tipos de datos\n",
        "type(lista)"
      ]
    },
    {
      "cell_type": "code",
      "source": [
        "print(lista[0])    # primer elemento\n",
        "print(lista[-1])   # ultimo elemento"
      ],
      "metadata": {
        "colab": {
          "base_uri": "https://localhost:8080/"
        },
        "id": "Ruf6dPTold-N",
        "outputId": "779fa5a7-ba11-4f35-9740-c2269a9be3c5"
      },
      "execution_count": 9,
      "outputs": [
        {
          "output_type": "stream",
          "name": "stdout",
          "text": [
            "3\n",
            "True\n"
          ]
        }
      ]
    },
    {
      "cell_type": "code",
      "source": [
        "lista=[10,20,30,40,50,60,70,80,90,100]\n",
        "\n",
        "print(lista[2:5])   # NO SE INCLUYE EL ULTIMO ELEMENTO\n",
        "print(lista[2:-2])  # NO SE INCLUYE EL ULTIMO ELEMENTO"
      ],
      "metadata": {
        "colab": {
          "base_uri": "https://localhost:8080/"
        },
        "id": "PPsmACTSlsCt",
        "outputId": "96d96a1e-02ef-4a4d-8179-075b090a01c5"
      },
      "execution_count": 13,
      "outputs": [
        {
          "output_type": "stream",
          "name": "stdout",
          "text": [
            "[30, 40, 50]\n",
            "[30, 40, 50, 60, 70, 80]\n"
          ]
        }
      ]
    },
    {
      "cell_type": "markdown",
      "source": [
        "# Operaciones de listas"
      ],
      "metadata": {
        "id": "j2MZ4gcdm5iA"
      }
    },
    {
      "cell_type": "code",
      "source": [
        "lista1=[10,20,30]\n",
        "lista2=[4,5,6]\n",
        "\n",
        "print(lista1+lista2)      # se agrega al final\n",
        "print(5*lista2)           # se repite 5 veces la lista"
      ],
      "metadata": {
        "colab": {
          "base_uri": "https://localhost:8080/"
        },
        "id": "OHrfVnuHmh9F",
        "outputId": "4cb5e949-8073-4095-b16d-6c545dc77d66"
      },
      "execution_count": 16,
      "outputs": [
        {
          "output_type": "stream",
          "name": "stdout",
          "text": [
            "[10, 20, 30, 4, 5, 6]\n",
            "[4, 5, 6, 4, 5, 6, 4, 5, 6, 4, 5, 6, 4, 5, 6]\n"
          ]
        }
      ]
    },
    {
      "cell_type": "code",
      "source": [
        "lista=[10,20,30,40,50,60,70,80,90,100]\n",
        "len(lista)   # longitud de la lista\n",
        "\n",
        "lista.append(110) # se agrega un elemento al final de la lista\n",
        "print(lista)\n",
        "\n",
        "lista.insert(5,-100) # inserto en la posicion \"-5\" el valor de \"-100\"\n",
        "print(lista)"
      ],
      "metadata": {
        "colab": {
          "base_uri": "https://localhost:8080/"
        },
        "id": "aD47Pc6cnGlO",
        "outputId": "38f04d3b-937e-4563-d0cd-b848d264d5b7"
      },
      "execution_count": 22,
      "outputs": [
        {
          "output_type": "stream",
          "name": "stdout",
          "text": [
            "[10, 20, 30, 40, 50, 60, 70, 80, 90, 100, 110]\n",
            "[10, 20, 30, 40, 50, -100, 60, 70, 80, 90, 100, 110]\n"
          ]
        }
      ]
    },
    {
      "cell_type": "code",
      "source": [
        "lista=[10,20,30,40,50,60,70,80,90,100]\n",
        "lista.pop(5) # elimino el elemento de la posicion 5\n",
        "lista\n",
        "\n",
        "# otra forma de eliminar en particular\n",
        "lista.remove(70) # elimino el valor 70, no importa la posicion que está\n",
        "print(lista)"
      ],
      "metadata": {
        "colab": {
          "base_uri": "https://localhost:8080/"
        },
        "id": "ADnW0nvJnfal",
        "outputId": "55fb519e-bbeb-4dee-b584-ca9d5f518625"
      },
      "execution_count": 32,
      "outputs": [
        {
          "output_type": "stream",
          "name": "stdout",
          "text": [
            "[10, 20, 30, 40, 50, 80, 90, 100]\n"
          ]
        }
      ]
    },
    {
      "cell_type": "code",
      "source": [
        "lista=[40,50,12,14,98,34,-20]\n",
        "lista[2]=-12   # reemplaza valores en la lista\n",
        "print(lista)\n"
      ],
      "metadata": {
        "colab": {
          "base_uri": "https://localhost:8080/"
        },
        "id": "_KgjaaqFoCmB",
        "outputId": "f6cb957c-163f-42ff-e7b8-4c37b3ee72b0"
      },
      "execution_count": 34,
      "outputs": [
        {
          "output_type": "stream",
          "name": "stdout",
          "text": [
            "[40, 50, -12, 14, 98, 34, -20]\n"
          ]
        }
      ]
    },
    {
      "cell_type": "code",
      "source": [
        "lista.sort()  # ordeno ascendente\n",
        "print(lista)\n",
        "\n",
        "lista.reverse() # ordenado al reves (NO NECESARIAMENTE ASC O DESC)\n",
        "print(lista)  "
      ],
      "metadata": {
        "colab": {
          "base_uri": "https://localhost:8080/"
        },
        "id": "tJEKXoTwo84q",
        "outputId": "528aba84-3821-429b-ae75-a82b325b4cee"
      },
      "execution_count": 40,
      "outputs": [
        {
          "output_type": "stream",
          "name": "stdout",
          "text": [
            "[-20, -12, 14, 34, 40, 50, 98]\n",
            "[98, 50, 40, 34, 14, -12, -20]\n"
          ]
        }
      ]
    },
    {
      "cell_type": "markdown",
      "source": [
        "## Mutabilidad de listas"
      ],
      "metadata": {
        "id": "xCP7IEkhqdVn"
      }
    },
    {
      "cell_type": "code",
      "source": [
        "lista=[1,2,3,4,5]\n",
        "lista[2]=4         # puedo reemplazar los elementos es MUTABLE\n",
        "print(lista)"
      ],
      "metadata": {
        "colab": {
          "base_uri": "https://localhost:8080/"
        },
        "id": "XkWzLFfRpTRm",
        "outputId": "6636f0d6-bf96-4346-a13c-8356481973cc"
      },
      "execution_count": 42,
      "outputs": [
        {
          "output_type": "stream",
          "name": "stdout",
          "text": [
            "[1, 2, 4, 4, 5]\n"
          ]
        }
      ]
    },
    {
      "cell_type": "code",
      "source": [
        "lista=\"Hola mundo\"\n",
        "print(lista[2])           # devuelve el segundo elemento\n",
        "lista[2]=\"a\"              # no se puede reemplazar, no es una lista, no es mutable"
      ],
      "metadata": {
        "colab": {
          "base_uri": "https://localhost:8080/",
          "height": 219
        },
        "id": "G58FhstGqz8I",
        "outputId": "08646492-1528-4e10-9c39-bf52e61b567f"
      },
      "execution_count": 46,
      "outputs": [
        {
          "output_type": "stream",
          "name": "stdout",
          "text": [
            "l\n"
          ]
        },
        {
          "output_type": "error",
          "ename": "TypeError",
          "evalue": "ignored",
          "traceback": [
            "\u001b[0;31m---------------------------------------------------------------------------\u001b[0m",
            "\u001b[0;31mTypeError\u001b[0m                                 Traceback (most recent call last)",
            "\u001b[0;32m<ipython-input-46-8378faee3a39>\u001b[0m in \u001b[0;36m<module>\u001b[0;34m\u001b[0m\n\u001b[1;32m      1\u001b[0m \u001b[0mlista\u001b[0m\u001b[0;34m=\u001b[0m\u001b[0;34m\"Hola mundo\"\u001b[0m\u001b[0;34m\u001b[0m\u001b[0;34m\u001b[0m\u001b[0m\n\u001b[1;32m      2\u001b[0m \u001b[0mprint\u001b[0m\u001b[0;34m(\u001b[0m\u001b[0mlista\u001b[0m\u001b[0;34m[\u001b[0m\u001b[0;36m2\u001b[0m\u001b[0;34m]\u001b[0m\u001b[0;34m)\u001b[0m           \u001b[0;31m# devuelve el segundo elemento\u001b[0m\u001b[0;34m\u001b[0m\u001b[0;34m\u001b[0m\u001b[0m\n\u001b[0;32m----> 3\u001b[0;31m \u001b[0mlista\u001b[0m\u001b[0;34m[\u001b[0m\u001b[0;36m2\u001b[0m\u001b[0;34m]\u001b[0m\u001b[0;34m=\u001b[0m\u001b[0;34m\"a\"\u001b[0m              \u001b[0;31m# no se puede reemplazar, no es una lista, no es mutable\u001b[0m\u001b[0;34m\u001b[0m\u001b[0;34m\u001b[0m\u001b[0m\n\u001b[0m",
            "\u001b[0;31mTypeError\u001b[0m: 'str' object does not support item assignment"
          ]
        }
      ]
    },
    {
      "cell_type": "markdown",
      "source": [
        "# Tuplas y sets"
      ],
      "metadata": {
        "id": "om8quKUYtzMr"
      }
    },
    {
      "cell_type": "code",
      "source": [
        "tupla=(10,20,30,40,50)\n",
        "print(tupla[0])   #primer elemento\n",
        "print(tupla[-1])  #ultimo elemento"
      ],
      "metadata": {
        "colab": {
          "base_uri": "https://localhost:8080/"
        },
        "id": "CB5xkyVKq-o4",
        "outputId": "e7a18538-a615-4547-fa60-d4b6d08fca9a"
      },
      "execution_count": 51,
      "outputs": [
        {
          "output_type": "stream",
          "name": "stdout",
          "text": [
            "10\n",
            "50\n"
          ]
        }
      ]
    },
    {
      "cell_type": "code",
      "source": [
        "tuplas[1]=1 # las tuplas NO SON MUTABLES, no se puede reemplazar valores para modificar"
      ],
      "metadata": {
        "colab": {
          "base_uri": "https://localhost:8080/",
          "height": 166
        },
        "id": "HxcLOmF5tx5i",
        "outputId": "84a1ad38-c721-4bd5-b570-203cfa4a84c6"
      },
      "execution_count": 53,
      "outputs": [
        {
          "output_type": "error",
          "ename": "NameError",
          "evalue": "ignored",
          "traceback": [
            "\u001b[0;31m---------------------------------------------------------------------------\u001b[0m",
            "\u001b[0;31mNameError\u001b[0m                                 Traceback (most recent call last)",
            "\u001b[0;32m<ipython-input-53-83e8db96bcfa>\u001b[0m in \u001b[0;36m<module>\u001b[0;34m\u001b[0m\n\u001b[0;32m----> 1\u001b[0;31m \u001b[0mtuplas\u001b[0m\u001b[0;34m[\u001b[0m\u001b[0;36m1\u001b[0m\u001b[0;34m]\u001b[0m\u001b[0;34m=\u001b[0m\u001b[0;36m1\u001b[0m \u001b[0;31m# las tuplas NO SON MUTABLES, no se puede reemplazar valores para modificar\u001b[0m\u001b[0;34m\u001b[0m\u001b[0;34m\u001b[0m\u001b[0m\n\u001b[0m",
            "\u001b[0;31mNameError\u001b[0m: name 'tuplas' is not defined"
          ]
        }
      ]
    },
    {
      "cell_type": "code",
      "source": [
        "# utilidad de tuplas\n",
        "\n",
        "a=4\n",
        "b=5\n",
        "a,b"
      ],
      "metadata": {
        "colab": {
          "base_uri": "https://localhost:8080/"
        },
        "id": "g-KUi4ohuMdN",
        "outputId": "12d616bc-ee6d-435e-b1b7-77e15f83ca9a"
      },
      "execution_count": 54,
      "outputs": [
        {
          "output_type": "execute_result",
          "data": {
            "text/plain": [
              "(4, 5)"
            ]
          },
          "metadata": {},
          "execution_count": 54
        }
      ]
    },
    {
      "cell_type": "code",
      "source": [
        "tupla=a,b    #ventaja respecto a las listas\n",
        "print(a,b)\n",
        "print(type(tupla))\n"
      ],
      "metadata": {
        "colab": {
          "base_uri": "https://localhost:8080/"
        },
        "id": "NepplTW0ulPy",
        "outputId": "d30b2fe0-1948-4aef-f3a0-b8fd3d535796"
      },
      "execution_count": 58,
      "outputs": [
        {
          "output_type": "stream",
          "name": "stdout",
          "text": [
            "4 5\n",
            "<class 'tuple'>\n"
          ]
        }
      ]
    },
    {
      "cell_type": "code",
      "source": [
        "tupla =40,50,60\n",
        "print(tupla)\n",
        "print(type(tupla))\n",
        "\n",
        "lista=list(tupla)\n",
        "print(lista)\n",
        "\n",
        "# como es una lista podemos cambiar(MUTABLE)\n",
        "lista[1]=-1\n",
        "print(lista)\n",
        "\n",
        "# hacemos un CASTEO(cambiar tipo de dato)\n",
        "tupla=tuple(lista)\n",
        "print(tupla)"
      ],
      "metadata": {
        "colab": {
          "base_uri": "https://localhost:8080/"
        },
        "id": "D-LOSA5OuuLE",
        "outputId": "f224605e-4909-4287-8dc5-7fb5c21f352f"
      },
      "execution_count": 64,
      "outputs": [
        {
          "output_type": "stream",
          "name": "stdout",
          "text": [
            "(40, 50, 60)\n",
            "<class 'tuple'>\n",
            "[40, 50, 60]\n",
            "[40, -1, 60]\n",
            "(40, -1, 60)\n"
          ]
        }
      ]
    },
    {
      "cell_type": "markdown",
      "source": [
        "## Asignacion multiple"
      ],
      "metadata": {
        "id": "4VzTUkkSvj1a"
      }
    },
    {
      "cell_type": "code",
      "source": [
        "a,b,c=3,4,5\n",
        "\n",
        "x,y,z=[1,2,3],\"HOLA\",True\n",
        "print(x)\n",
        "print(y)\n",
        "print(z)"
      ],
      "metadata": {
        "colab": {
          "base_uri": "https://localhost:8080/"
        },
        "id": "HKsEVcj5u6Ps",
        "outputId": "2e78d025-be01-4809-aa71-7f8a3bce8930"
      },
      "execution_count": 69,
      "outputs": [
        {
          "output_type": "stream",
          "name": "stdout",
          "text": [
            "[1, 2, 3]\n",
            "HOLA\n",
            "True\n"
          ]
        }
      ]
    },
    {
      "cell_type": "markdown",
      "source": [
        "# Conjuntos"
      ],
      "metadata": {
        "id": "dvRgSpRGv6Cg"
      }
    },
    {
      "cell_type": "code",
      "source": [
        "herramientas_DS={\"python\",\"R\",\"sql\",\"spark\"} # no tienen ningun orden\n",
        "type(herramientas_DS)\n",
        "\n",
        "herramientas_DS.add(\"Excel\")\n",
        "print(herramientas_DS)"
      ],
      "metadata": {
        "colab": {
          "base_uri": "https://localhost:8080/"
        },
        "id": "pYEqg6rgvndO",
        "outputId": "ea27bfb1-b847-4c07-f105-26600e6ad0b6"
      },
      "execution_count": 75,
      "outputs": [
        {
          "output_type": "stream",
          "name": "stdout",
          "text": [
            "{'sql', 'R', 'Excel', 'python', 'spark'}\n"
          ]
        }
      ]
    },
    {
      "cell_type": "markdown",
      "source": [
        "## Operacioes entre conjuntos"
      ],
      "metadata": {
        "id": "YJnq2f78wfXW"
      }
    },
    {
      "cell_type": "code",
      "source": [
        "herramientas_DS={\"python\",\"R\",\"sql\",\"spark\"}  \n",
        "herramientas_DE={\"python\",\"R\",\"sql\",\"AWS\",\"Tableau\"}\n",
        "\n",
        "print(herramientas_DS.intersection(herramientas_DE))\n",
        "\n",
        "print(herramientas_DE.union(herramientas_DS))\n",
        "\n",
        "print(herramientas_DS.difference(herramientas_DE))"
      ],
      "metadata": {
        "colab": {
          "base_uri": "https://localhost:8080/"
        },
        "id": "SfWCe64vwGmG",
        "outputId": "99c003a1-f768-416a-b1b8-081b1ac4dce5"
      },
      "execution_count": 80,
      "outputs": [
        {
          "output_type": "stream",
          "name": "stdout",
          "text": [
            "{'python', 'sql', 'R'}\n",
            "{'AWS', 'sql', 'Tableau', 'R', 'python', 'spark'}\n",
            "{'spark'}\n"
          ]
        }
      ]
    },
    {
      "cell_type": "markdown",
      "source": [
        "# Diccionarios\n",
        "\n",
        "Se crea bajo la dualidad \"{key: value}\""
      ],
      "metadata": {
        "id": "GcrZwCqwxGyv"
      }
    },
    {
      "cell_type": "code",
      "source": [
        "facebook={\"founder\": [\"Zuckemberg\",\"Saverin\"],\n",
        "          \"year\": 2004,\n",
        "          \"dominio\": \"www.facebook,com\"}\n",
        "type(facebook)"
      ],
      "metadata": {
        "colab": {
          "base_uri": "https://localhost:8080/"
        },
        "id": "h6T7THz_wrXx",
        "outputId": "f9636c9e-6910-45de-e7ac-57814b0a6fa8"
      },
      "execution_count": 84,
      "outputs": [
        {
          "output_type": "execute_result",
          "data": {
            "text/plain": [
              "dict"
            ]
          },
          "metadata": {},
          "execution_count": 84
        }
      ]
    },
    {
      "cell_type": "code",
      "source": [
        "print(facebook[\"founder\"])\n",
        "print(facebook[\"year\"])"
      ],
      "metadata": {
        "colab": {
          "base_uri": "https://localhost:8080/"
        },
        "id": "RzF4IlQ8xICs",
        "outputId": "e903944c-a98b-4016-e3c6-21954d757b93"
      },
      "execution_count": 89,
      "outputs": [
        {
          "output_type": "stream",
          "name": "stdout",
          "text": [
            "['Zuckemberg', 'Saverin']\n",
            "2004\n"
          ]
        }
      ]
    },
    {
      "cell_type": "code",
      "source": [
        "print(facebook.get(\"founder\"))\n",
        "print(facebook.get(\"stock price\")) # devuelve vacío, no hay key con ese nombre y no muetsra \"error\""
      ],
      "metadata": {
        "colab": {
          "base_uri": "https://localhost:8080/"
        },
        "id": "HQPlDCuU1l4_",
        "outputId": "30390d1d-b1a4-46fa-87e2-92bdd4f4871c"
      },
      "execution_count": 92,
      "outputs": [
        {
          "output_type": "stream",
          "name": "stdout",
          "text": [
            "['Zuckemberg', 'Saverin']\n",
            "None\n"
          ]
        }
      ]
    },
    {
      "cell_type": "code",
      "source": [
        "# agregando nuevas entradas\n",
        "facebook[\"stock price\"]=20\n",
        "facebook"
      ],
      "metadata": {
        "colab": {
          "base_uri": "https://localhost:8080/"
        },
        "id": "V6w7_27p2OOc",
        "outputId": "2905b982-e0d7-42e6-983e-24643c3ded5e"
      },
      "execution_count": 95,
      "outputs": [
        {
          "output_type": "execute_result",
          "data": {
            "text/plain": [
              "{'founder': ['Zuckemberg', 'Saverin'],\n",
              " 'year': 2004,\n",
              " 'dominio': 'www.facebook,com',\n",
              " 'stock price': 20}"
            ]
          },
          "metadata": {},
          "execution_count": 95
        }
      ]
    },
    {
      "cell_type": "code",
      "source": [
        "# eliminando entradas\n",
        "facebook.pop(\"year\")\n",
        "facebook"
      ],
      "metadata": {
        "colab": {
          "base_uri": "https://localhost:8080/"
        },
        "id": "Z9LD1FTg2n62",
        "outputId": "6a0f9332-bb45-402b-8ccb-6a6161e90ae6"
      },
      "execution_count": 96,
      "outputs": [
        {
          "output_type": "execute_result",
          "data": {
            "text/plain": [
              "{'founder': ['Zuckemberg', 'Saverin'],\n",
              " 'dominio': 'www.facebook,com',\n",
              " 'stock price': 20}"
            ]
          },
          "metadata": {},
          "execution_count": 96
        }
      ]
    },
    {
      "cell_type": "code",
      "source": [
        "facebook[\"founder\"]=\"Mark Zuckerberg\" # modificando en founder\n",
        "facebook"
      ],
      "metadata": {
        "colab": {
          "base_uri": "https://localhost:8080/"
        },
        "id": "LfHh0UoC23av",
        "outputId": "c9e6dd5d-5cf7-4113-abc9-f705fe81ead5"
      },
      "execution_count": 99,
      "outputs": [
        {
          "output_type": "execute_result",
          "data": {
            "text/plain": [
              "{'founder': 'Mark Zuckerberg',\n",
              " 'dominio': 'www.facebook,com',\n",
              " 'stock price': 20}"
            ]
          },
          "metadata": {},
          "execution_count": 99
        }
      ]
    },
    {
      "cell_type": "code",
      "source": [
        "facebook.keys() # devuelve las llaves del diccionario\n",
        "\n",
        "keys=list(facebook.keys())\n",
        "print(keys) # es una lista por los corchetes\n",
        "\n",
        "values=list(facebook.values())\n",
        "print(values)"
      ],
      "metadata": {
        "colab": {
          "base_uri": "https://localhost:8080/"
        },
        "id": "iVZzBWuL3Hi_",
        "outputId": "18a5216e-5c80-417a-978e-6371ce99c755"
      },
      "execution_count": 105,
      "outputs": [
        {
          "output_type": "stream",
          "name": "stdout",
          "text": [
            "['founder', 'dominio', 'stock price']\n",
            "['Mark Zuckerberg', 'www.facebook,com', 20]\n"
          ]
        }
      ]
    },
    {
      "cell_type": "code",
      "source": [
        "items=list(facebook.items()) # devuelve una lista de pares(key, value)\n",
        "print(items)\n",
        "print(items[1])"
      ],
      "metadata": {
        "colab": {
          "base_uri": "https://localhost:8080/"
        },
        "id": "P61UHlIk3Ujo",
        "outputId": "0625c2c9-8fce-40f3-94e2-053c3a9a2d02"
      },
      "execution_count": 111,
      "outputs": [
        {
          "output_type": "stream",
          "name": "stdout",
          "text": [
            "[('founder', 'Mark Zuckerberg'), ('dominio', 'www.facebook,com'), ('stock price', 20)]\n",
            "('dominio', 'www.facebook,com')\n"
          ]
        }
      ]
    },
    {
      "cell_type": "code",
      "source": [
        "# se agrega informacion adicional\n",
        "facebook_extra={\"locaition\":\"Palo Alto\",\n",
        "                \"users\":\"2.5 billion\",\n",
        "                \"founder\":\"Mark Z\"} # se actualiza la llave repetida\n",
        "\n",
        "facebook.update(facebook_extra)\n",
        "facebook"
      ],
      "metadata": {
        "colab": {
          "base_uri": "https://localhost:8080/"
        },
        "id": "Z02qSqYE3xUl",
        "outputId": "d4f10398-2eb9-4041-cf84-6e30f3eff817"
      },
      "execution_count": 116,
      "outputs": [
        {
          "output_type": "execute_result",
          "data": {
            "text/plain": [
              "{'founder': 'Mark Z',\n",
              " 'dominio': 'www.facebook,com',\n",
              " 'stock price': 20,\n",
              " 'locaition': 'Palo Alto',\n",
              " 'users': '2.5 billion'}"
            ]
          },
          "metadata": {},
          "execution_count": 116
        }
      ]
    },
    {
      "cell_type": "code",
      "source": [],
      "metadata": {
        "id": "NVnKBRDR4YMZ"
      },
      "execution_count": null,
      "outputs": []
    }
  ]
}
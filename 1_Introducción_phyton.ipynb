{
  "nbformat": 4,
  "nbformat_minor": 0,
  "metadata": {
    "colab": {
      "provenance": [],
      "authorship_tag": "ABX9TyOYXxi9ZRnucaR7aaScp8ks",
      "include_colab_link": true
    },
    "kernelspec": {
      "name": "python3",
      "display_name": "Python 3"
    },
    "language_info": {
      "name": "python"
    }
  },
  "cells": [
    {
      "cell_type": "markdown",
      "metadata": {
        "id": "view-in-github",
        "colab_type": "text"
      },
      "source": [
        "<a href=\"https://colab.research.google.com/github/Luis-Amagua/Introduccion_Python/blob/main/1_Introducci%C3%B3n_phyton.ipynb\" target=\"_parent\"><img src=\"https://colab.research.google.com/assets/colab-badge.svg\" alt=\"Open In Colab\"/></a>"
      ]
    },
    {
      "cell_type": "markdown",
      "source": [
        "# Tipos de Variables\n",
        "\n",
        "## Variables numericas"
      ],
      "metadata": {
        "id": "rstkRViGPKTU"
      }
    },
    {
      "cell_type": "code",
      "execution_count": 1,
      "metadata": {
        "id": "uEsg_hgwKaKx"
      },
      "outputs": [],
      "source": [
        "x=12\n",
        "print(x)"
      ]
    },
    {
      "cell_type": "code",
      "source": [
        "y=13.5\n",
        "print(y)# variables de punto flotante"
      ],
      "metadata": {
        "colab": {
          "base_uri": "https://localhost:8080/"
        },
        "id": "QY9QHTZaQPyw",
        "outputId": "de1f624e-1ab4-4fb1-cc41-d8a457874a1a"
      },
      "execution_count": 2,
      "outputs": [
        {
          "output_type": "stream",
          "name": "stdout",
          "text": [
            "13.5\n"
          ]
        }
      ]
    },
    {
      "cell_type": "code",
      "source": [
        "type(y)# se muestra em tipo de dato de una variable"
      ],
      "metadata": {
        "colab": {
          "base_uri": "https://localhost:8080/"
        },
        "id": "YzAGQiKMQWMD",
        "outputId": "46ad3185-c6b7-4441-f022-d2476f7efb52"
      },
      "execution_count": 3,
      "outputs": [
        {
          "output_type": "execute_result",
          "data": {
            "text/plain": [
              "float"
            ]
          },
          "metadata": {},
          "execution_count": 3
        }
      ]
    },
    {
      "cell_type": "markdown",
      "source": [
        "## Casteo de variables numéricas\n",
        "Castear una variable se cambia el tipo de una variable"
      ],
      "metadata": {
        "id": "sJ8MIvmfROKY"
      }
    },
    {
      "cell_type": "code",
      "source": [
        "x=4.6       #tipo float\n",
        "z=int(x)    #tipo entero\n",
        "print(z)\n",
        "print(type(z))"
      ],
      "metadata": {
        "colab": {
          "base_uri": "https://localhost:8080/"
        },
        "id": "BrnSjWK_QclJ",
        "outputId": "012f000b-91d3-47e3-aa1b-0f4bc96ca591"
      },
      "execution_count": 8,
      "outputs": [
        {
          "output_type": "stream",
          "name": "stdout",
          "text": [
            "4\n",
            "<class 'int'>\n"
          ]
        }
      ]
    },
    {
      "cell_type": "code",
      "source": [
        "round(x)    # redondear la variable"
      ],
      "metadata": {
        "colab": {
          "base_uri": "https://localhost:8080/"
        },
        "id": "VhgjhIygRcs3",
        "outputId": "f5faaafb-3da0-45b2-eaa2-798c7ccc754a"
      },
      "execution_count": 7,
      "outputs": [
        {
          "output_type": "execute_result",
          "data": {
            "text/plain": [
              "5"
            ]
          },
          "metadata": {},
          "execution_count": 7
        }
      ]
    },
    {
      "cell_type": "code",
      "source": [
        "x=4         #entero\n",
        "z=float(x)  #float\n",
        "type(z)"
      ],
      "metadata": {
        "colab": {
          "base_uri": "https://localhost:8080/"
        },
        "id": "09uFfI16RnDg",
        "outputId": "d8d26e86-a471-423c-fc90-6f19cda92024"
      },
      "execution_count": 11,
      "outputs": [
        {
          "output_type": "execute_result",
          "data": {
            "text/plain": [
              "float"
            ]
          },
          "metadata": {},
          "execution_count": 11
        }
      ]
    },
    {
      "cell_type": "markdown",
      "source": [
        "## Operaciones entre variables"
      ],
      "metadata": {
        "id": "_r__6S2wSs78"
      }
    },
    {
      "cell_type": "code",
      "source": [
        "x=17\n",
        "y=3\n",
        "\n",
        "print(x+y)   # suma\n",
        "print(x-y)   #resta\n",
        "print(x*y)   #producto\n",
        "print(x/y)   #division\n",
        "print(x//y)  # division solo enteros\n",
        "print(x%y)   # residuo del cociente\n",
        "print(x**y)  #potencia\n",
        "print(16**(1/2)) # NO HYA RAIZ CUADRADA, pero se puede usar la potencia"
      ],
      "metadata": {
        "colab": {
          "base_uri": "https://localhost:8080/"
        },
        "id": "vHGeMYrjR0Xt",
        "outputId": "ca8dacf3-e038-4f72-8fb0-436b85bf6c1f"
      },
      "execution_count": 20,
      "outputs": [
        {
          "output_type": "stream",
          "name": "stdout",
          "text": [
            "20\n",
            "14\n",
            "51\n",
            "5.666666666666667\n",
            "5\n",
            "2\n",
            "4913\n",
            "4.0\n"
          ]
        }
      ]
    },
    {
      "cell_type": "markdown",
      "source": [
        "## Variables Booleanas\n"
      ],
      "metadata": {
        "id": "P3cr4vo1ULbp"
      }
    },
    {
      "cell_type": "code",
      "source": [
        "4>2\n"
      ],
      "metadata": {
        "colab": {
          "base_uri": "https://localhost:8080/"
        },
        "id": "FK7GvRC-S2Ib",
        "outputId": "a4446c17-c115-40f8-aff9-5f88069a4ef5"
      },
      "execution_count": 21,
      "outputs": [
        {
          "output_type": "execute_result",
          "data": {
            "text/plain": [
              "True"
            ]
          },
          "metadata": {},
          "execution_count": 21
        }
      ]
    },
    {
      "cell_type": "code",
      "source": [
        "4==5 # operador de comparacion"
      ],
      "metadata": {
        "colab": {
          "base_uri": "https://localhost:8080/"
        },
        "id": "QkyA_7-lUbDH",
        "outputId": "d4ce254a-3093-4010-a871-c49e34dd6cd8"
      },
      "execution_count": 23,
      "outputs": [
        {
          "output_type": "execute_result",
          "data": {
            "text/plain": [
              "False"
            ]
          },
          "metadata": {},
          "execution_count": 23
        }
      ]
    },
    {
      "cell_type": "code",
      "source": [
        "x=True \n",
        "y=False\n",
        "print(x)\n",
        "print(y)"
      ],
      "metadata": {
        "colab": {
          "base_uri": "https://localhost:8080/"
        },
        "id": "BSVcDg3YUn1S",
        "outputId": "32954b6e-a247-4a0e-a7cd-099a753e8d63"
      },
      "execution_count": 26,
      "outputs": [
        {
          "output_type": "stream",
          "name": "stdout",
          "text": [
            "True\n",
            "False\n"
          ]
        }
      ]
    },
    {
      "cell_type": "code",
      "source": [
        "a=True\n",
        "b=False\n",
        "\n",
        "print(a and b) #(devuelve la conjuncion de a y b)\n",
        "print(a or b) # devuelve la disyuncion de a y b"
      ],
      "metadata": {
        "colab": {
          "base_uri": "https://localhost:8080/"
        },
        "id": "WbUzY8xdUzpG",
        "outputId": "9fc05153-65f2-407a-f4a6-c48836e5caee"
      },
      "execution_count": 32,
      "outputs": [
        {
          "output_type": "stream",
          "name": "stdout",
          "text": [
            "False\n",
            "True\n"
          ]
        }
      ]
    },
    {
      "cell_type": "markdown",
      "source": [
        "## Strings"
      ],
      "metadata": {
        "id": "fl-pW8OHV7W1"
      }
    },
    {
      "cell_type": "code",
      "source": [
        "saludo=\"hola mundo\"\n",
        "print(saludo)\n",
        "print(type(saludo))"
      ],
      "metadata": {
        "colab": {
          "base_uri": "https://localhost:8080/"
        },
        "id": "3BzbjCw8VBRi",
        "outputId": "73defe3f-57c7-48bc-a4c1-b7041501810b"
      },
      "execution_count": 34,
      "outputs": [
        {
          "output_type": "stream",
          "name": "stdout",
          "text": [
            "hola mundo\n",
            "<class 'str'>\n"
          ]
        }
      ]
    },
    {
      "cell_type": "code",
      "source": [
        "nombre= \"Luis Amagua\"\n",
        "ciudad= \"Quito\"\n",
        "edad=30\n",
        "\n",
        "saludo= f\"Hola mi nombre es {nombre} soy de la ciudad de {ciudad} y tengo {edad} años\"\n",
        "print(saludo)\n",
        "\n"
      ],
      "metadata": {
        "colab": {
          "base_uri": "https://localhost:8080/"
        },
        "id": "JgvDlxIfXiwZ",
        "outputId": "d8346c84-c21d-4a86-f03a-0cdfbc4989c7"
      },
      "execution_count": 42,
      "outputs": [
        {
          "output_type": "stream",
          "name": "stdout",
          "text": [
            "Hola mi nombre es Luis Amagua soy de la ciudad de Quito y tengo 30 años\n"
          ]
        }
      ]
    },
    {
      "cell_type": "code",
      "source": [
        "\"Hola mi nombre es \" +nombre+ \" soy de la ciudad de \" + ciudad"
      ],
      "metadata": {
        "colab": {
          "base_uri": "https://localhost:8080/",
          "height": 35
        },
        "id": "RuSkLib-X7R3",
        "outputId": "1d9e9b69-e144-43fa-86ec-cfd2677a9b60"
      },
      "execution_count": 43,
      "outputs": [
        {
          "output_type": "execute_result",
          "data": {
            "text/plain": [
              "'Hola mi nombre es Luis Amagua soy de la ciudad de Quito'"
            ],
            "application/vnd.google.colaboratory.intrinsic+json": {
              "type": "string"
            }
          },
          "metadata": {},
          "execution_count": 43
        }
      ]
    },
    {
      "cell_type": "code",
      "source": [
        "nombre= \"Luis Amagua\"\n",
        "print(nombre.upper())  # cambia todo a mayusculas\n",
        "print(nombre.lower())  # cambia todo a minusculas"
      ],
      "metadata": {
        "colab": {
          "base_uri": "https://localhost:8080/"
        },
        "id": "YtSrbp-JYv2A",
        "outputId": "4ae866ef-0926-4a1a-f26c-1a3ed85095e8"
      },
      "execution_count": 46,
      "outputs": [
        {
          "output_type": "stream",
          "name": "stdout",
          "text": [
            "LUIS AMAGUA\n",
            "luis amagua\n"
          ]
        }
      ]
    },
    {
      "cell_type": "markdown",
      "source": [
        "## Almacenar valores desde el usuario"
      ],
      "metadata": {
        "id": "GNda9JscaCUA"
      }
    },
    {
      "cell_type": "code",
      "source": [
        "nombre =input(\"Ingresa el nombre: \")\n",
        "print(nombre.lower())"
      ],
      "metadata": {
        "colab": {
          "base_uri": "https://localhost:8080/"
        },
        "id": "IhB8NCifZyPN",
        "outputId": "763e1737-566d-42f2-dcae-b02845ebdfb0"
      },
      "execution_count": 50,
      "outputs": [
        {
          "output_type": "stream",
          "name": "stdout",
          "text": [
            "Ingresa el nombre: LuiS AmAgua\n",
            "luis amagua\n"
          ]
        }
      ]
    },
    {
      "cell_type": "code",
      "source": [
        "edad=int(input(\"Ingresa tu edad(en numeros): \"))\n",
        "print(type(edad))\n"
      ],
      "metadata": {
        "colab": {
          "base_uri": "https://localhost:8080/"
        },
        "id": "lEThHsvIaGKX",
        "outputId": "7bb79773-4e32-462b-b097-ca686cf1b47e"
      },
      "execution_count": 74,
      "outputs": [
        {
          "output_type": "stream",
          "name": "stdout",
          "text": [
            "Ingresa tu edad(en numeros): 33\n",
            "<class 'int'>\n"
          ]
        }
      ]
    },
    {
      "cell_type": "code",
      "source": [],
      "metadata": {
        "id": "VIMQLEmncVre"
      },
      "execution_count": null,
      "outputs": []
    }
  ]
}